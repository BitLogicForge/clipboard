{
 "cells": [
  {
   "cell_type": "markdown",
   "metadata": {},
   "source": [
    "# Personalized Financial Advisor\n",
    "\n",
    "This interactive notebook demonstrates how language models can function as personalized financial advisors, adapting explanations to users' knowledge levels.\n",
    "\n",
    "## What is a Personalized Financial Advisor?\n",
    "\n",
    "A personalized financial advisor in the context of AI provides customized financial guidance based on an individual's specific situation, goals, and level of financial literacy. The key innovation is dynamic adaptation - the system adjusts its language, explanations, and recommendations based on the user's knowledge level.\n"
   ]
  },
  {
   "cell_type": "code",
   "execution_count": 5,
   "metadata": {},
   "outputs": [
    {
     "name": "stdout",
     "output_type": "stream",
     "text": [
      "OpenAI API key not found. Some features will be disabled.\n"
     ]
    },
    {
     "name": "stderr",
     "output_type": "stream",
     "text": [
      "[nltk_data] Downloading package vader_lexicon to\n",
      "[nltk_data]     C:\\Users\\super\\AppData\\Roaming\\nltk_data...\n"
     ]
    }
   ],
   "source": [
    "import numpy as np\n",
    "import pandas as pd\n",
    "import matplotlib.pyplot as plt\n",
    "import seaborn as sns\n",
    "import plotly.express as px\n",
    "import plotly.graph_objects as go\n",
    "from IPython.display import display, HTML, clear_output, Markdown\n",
    "import ipywidgets as widgets\n",
    "import random\n",
    "import os\n",
    "from dotenv import load_dotenv\n",
    "from openai import OpenAI\n",
    "import sklearn\n",
    "from sklearn.cluster import KMeans\n",
    "from sklearn.preprocessing import StandardScaler\n",
    "from sklearn.ensemble import RandomForestClassifier\n",
    "from sklearn.model_selection import train_test_split\n",
    "from sklearn.metrics import accuracy_score\n",
    "from transformers import pipeline\n",
    "import torch\n",
    "import nltk\n",
    "from nltk.sentiment.vader import SentimentIntensityAnalyzer\n",
    "\n",
    "# Set styling\n",
    "plt.style.use(\"ggplot\")\n",
    "sns.set_palette(\"viridis\")\n",
    "\n",
    "# Suppress warnings\n",
    "import warnings\n",
    "\n",
    "warnings.filterwarnings(\"ignore\")\n",
    "\n",
    "# Load environment variables for API keys\n",
    "load_dotenv()\n",
    "\n",
    "# Download NLTK resources if needed\n",
    "try:\n",
    "    nltk.data.find(\"vader_lexicon\")\n",
    "except LookupError:\n",
    "    nltk.download(\"vader_lexicon\")\n",
    "\n",
    "# Initialize OpenAI client\n",
    "try:\n",
    "    client = OpenAI(api_key=os.environ.get(\"OPENAI_API_KEY\"))\n",
    "    has_openai_key = True\n",
    "except:\n",
    "    has_openai_key = False\n",
    "    print(\"OpenAI API key not found. Some features will be disabled.\")\n",
    "\n",
    "# Initialize sentiment analyzer\n",
    "sentiment_analyzer = SentimentIntensityAnalyzer()"
   ]
  },
  {
   "cell_type": "markdown",
   "metadata": {},
   "source": [
    "## Financial Knowledge Level Adaptation\n",
    "\n",
    "One of the key features of our personalized financial advisor is its ability to adapt explanations to the user's level of financial knowledge.\n"
   ]
  },
  {
   "cell_type": "code",
   "execution_count": 6,
   "metadata": {},
   "outputs": [
    {
     "data": {
      "application/vnd.jupyter.widget-view+json": {
       "model_id": "414899458d634699a5a632b1a6f628a8",
       "version_major": 2,
       "version_minor": 0
      },
      "text/plain": [
       "HTML(value='<h2>Financial Product Explorer</h2>')"
      ]
     },
     "metadata": {},
     "output_type": "display_data"
    },
    {
     "data": {
      "application/vnd.jupyter.widget-view+json": {
       "model_id": "00f4116d9a304458936e699f1c4157d0",
       "version_major": 2,
       "version_minor": 0
      },
      "text/plain": [
       "HTML(value='<p>Select your knowledge level and a financial product to get a personalized explanation.</p>')"
      ]
     },
     "metadata": {},
     "output_type": "display_data"
    },
    {
     "data": {
      "application/vnd.jupyter.widget-view+json": {
       "model_id": "f736cbd5ad72483f9df9c1fb59f31006",
       "version_major": 2,
       "version_minor": 0
      },
      "text/plain": [
       "VBox(children=(HBox(children=(RadioButtons(description='Knowledge Level:', options=('Beginner', 'Intermediate'…"
      ]
     },
     "metadata": {},
     "output_type": "display_data"
    }
   ],
   "source": [
    "# Sample financial product explanations at different knowledge levels\n",
    "financial_products = {\n",
    "    \"Mutual Funds\": {\n",
    "        \"beginner\": \"\"\"\n",
    "        **Mutual Funds - Beginner Explanation**\n",
    "        \n",
    "        Think of a mutual fund like a big basket of investments that many people put money into together. A professional manager takes all this pooled money and buys stocks, bonds, or other investments.\n",
    "        \n",
    "        **Key points:**\n",
    "        - You buy \"shares\" of the fund (like pieces of the basket)\n",
    "        - Your money is combined with other investors' money\n",
    "        - Professional managers make the investment decisions for you\n",
    "        \"\"\",\n",
    "        \"intermediate\": \"\"\"\n",
    "        **Mutual Funds - Intermediate Explanation**\n",
    "        \n",
    "        Mutual funds are pooled investment vehicles that collect capital from many investors to purchase a diversified portfolio of securities, typically managed by professional fund managers according to a specific investment objective.\n",
    "        \n",
    "        **Structure and operations:**\n",
    "        - Open-end funds continuously issue and redeem shares at Net Asset Value (NAV)\n",
    "        - Closed-end funds issue a fixed number of shares that trade on exchanges\n",
    "        - The fund's NAV is calculated daily based on closing market prices\n",
    "        \"\"\",\n",
    "        \"advanced\": \"\"\"\n",
    "        **Mutual Funds - Advanced Explanation**\n",
    "        \n",
    "        Mutual funds represent a mature vehicle in the asset management industry, operating under the Investment Company Act of 1940 with specific regulatory requirements regarding disclosure, diversification, and governance.\n",
    "        \n",
    "        **Advanced structural characteristics:**\n",
    "        - Registered Investment Companies (RICs) must distribute at least 90% of investment income to maintain pass-through tax status\n",
    "        - The '40 Act requires diversification with limits on position concentration (generally 5/10/25/50 rule)\n",
    "        - Board governance with independent directors provides oversight on advisory contracts and fee structures\n",
    "        \"\"\",\n",
    "    },\n",
    "    \"Stocks\": {\n",
    "        \"beginner\": \"\"\"\n",
    "        **Stocks - Beginner Explanation**\n",
    "        \n",
    "        When you buy a stock, you're buying a small piece (share) of ownership in a company. As a shareholder, you participate in the company's success or failure.\n",
    "        \n",
    "        **Key points:**\n",
    "        - Stock prices go up and down based on company performance and market conditions\n",
    "        - You can make money through price increases (capital gains) and dividends\n",
    "        - Generally higher risk than bonds, but with potential for higher returns\n",
    "        \"\"\",\n",
    "        \"intermediate\": \"\"\"\n",
    "        **Stocks - Intermediate Explanation**\n",
    "        \n",
    "        Stocks, or equities, represent ownership shares in corporations, entitling holders to a claim on assets and earnings. As residual claimants, stockholders have potential for unlimited upside but also stand last in line during liquidation.\n",
    "        \n",
    "        **Stock classifications:**\n",
    "        - Market capitalization: large-cap, mid-cap, small-cap, micro-cap\n",
    "        - Style: growth vs. value\n",
    "        - Sectors and industries (using GICS or other classification systems)\n",
    "        \"\"\",\n",
    "        \"advanced\": \"\"\"\n",
    "        **Stocks - Advanced Explanation**\n",
    "        \n",
    "        Equity securities represent complex financial instruments where valuation is influenced by multiple factors including cash flow expectations, discount rates, market sentiment, and option-like characteristics inherent in the corporate structure.\n",
    "        \n",
    "        **Advanced valuation methodologies:**\n",
    "        - Discounted cash flow using multi-stage models with terminal value calculations\n",
    "        - Residual income models incorporating return on invested capital (ROIC)\n",
    "        - Adjusted present value (APV) for companies with changing capital structures\n",
    "        \"\"\",\n",
    "    },\n",
    "    \"Bonds\": {\n",
    "        \"beginner\": \"\"\"\n",
    "        **Bonds - Beginner Explanation**\n",
    "        \n",
    "        A bond is like an IOU or a loan that you give to a company or government. In return, they promise to pay you interest regularly and return your original money (principal) when the bond matures (ends).\n",
    "        \n",
    "        **Key points:**\n",
    "        - You're the lender, the bond issuer is the borrower\n",
    "        - Bonds typically pay interest at a fixed rate (called the \"coupon\")\n",
    "        - Generally considered safer than stocks, but offer lower potential returns\n",
    "        \"\"\",\n",
    "        \"intermediate\": \"\"\"\n",
    "        **Bonds - Intermediate Explanation**\n",
    "        \n",
    "        Bonds are debt securities where the issuer is obligated to pay the holder periodic interest payments and return the principal at maturity. The bond market is significantly larger than the equity markets globally.\n",
    "        \n",
    "        **Bond characteristics:**\n",
    "        - Face value/par value is typically $1,000 for corporate bonds\n",
    "        - Coupon rate represents annual interest as a percentage of face value\n",
    "        - Yield to maturity (YTM) represents the total return if held to maturity\n",
    "        \"\"\",\n",
    "        \"advanced\": \"\"\"\n",
    "        **Bonds - Advanced Explanation**\n",
    "        \n",
    "        Fixed income securities represent a complex asset class with multifaceted risks and pricing models that incorporate term structure, credit spreads, and optionality considerations.\n",
    "        \n",
    "        **Advanced bond characteristics:**\n",
    "        - Duration decomposition: modified duration, effective duration, key rate duration\n",
    "        - Convexity as a second-order effect on price sensitivity\n",
    "        - Option-adjusted spread (OAS) for callable and putable securities\n",
    "        \"\"\",\n",
    "    },\n",
    "}\n",
    "\n",
    "# Create an interface to explore financial products\n",
    "knowledge_level = widgets.RadioButtons(\n",
    "    options=[\"Beginner\", \"Intermediate\", \"Advanced\"],\n",
    "    value=\"Beginner\",\n",
    "    description=\"Knowledge Level:\",\n",
    "    style={\"description_width\": \"initial\"},\n",
    ")\n",
    "\n",
    "product_dropdown = widgets.Dropdown(\n",
    "    options=list(financial_products.keys()),\n",
    "    value=list(financial_products.keys())[0],\n",
    "    description=\"Financial Product:\",\n",
    "    style={\"description_width\": \"initial\"},\n",
    "    layout=widgets.Layout(width=\"50%\"),\n",
    ")\n",
    "\n",
    "explanation_output = widgets.Output()\n",
    "\n",
    "\n",
    "def update_explanation(*args):\n",
    "    with explanation_output:\n",
    "        clear_output()\n",
    "        product = product_dropdown.value\n",
    "        level = knowledge_level.value.lower()\n",
    "        display(Markdown(financial_products[product][level]))\n",
    "\n",
    "\n",
    "knowledge_level.observe(update_explanation, \"value\")\n",
    "product_dropdown.observe(update_explanation, \"value\")\n",
    "\n",
    "# Display the widgets\n",
    "display(widgets.HTML(\"<h2>Financial Product Explorer</h2>\"))\n",
    "display(\n",
    "    widgets.HTML(\n",
    "        \"<p>Select your knowledge level and a financial product to get a personalized explanation.</p>\"\n",
    "    )\n",
    ")\n",
    "display(widgets.VBox([widgets.HBox([knowledge_level]), product_dropdown, explanation_output]))\n",
    "\n",
    "# Initial display\n",
    "update_explanation()"
   ]
  },
  {
   "cell_type": "markdown",
   "metadata": {},
   "source": [
    "## Risk and Return Visualization\n",
    "\n",
    "Understanding the relationship between risk and return is fundamental to making informed investment decisions.\n"
   ]
  },
  {
   "cell_type": "code",
   "execution_count": 7,
   "metadata": {},
   "outputs": [
    {
     "data": {
      "application/vnd.plotly.v1+json": {
       "config": {
        "plotlyServerURL": "https://plot.ly"
       },
       "data": [
        {
         "customdata": [
          [
           "Money market funds, Treasury bills, short-term CDs"
          ],
          [
           "Treasury bonds, government agency bonds"
          ],
          [
           "Bonds from large, stable companies with good credit ratings"
          ],
          [
           "Stocks of large, established companies (e.g., S&P 500)"
          ],
          [
           "Smaller companies with high growth potential"
          ],
          [
           "Real Estate Investment Trusts"
          ],
          [
           "Stocks from developing economies (e.g., Brazil, India)"
          ]
         ],
         "hovertemplate": "Risk (Volatility %)=%{x}<br>Expected Return (%)=%{marker.color}<br>size=%{marker.size}<br>Asset Class=%{text}<br>Description=%{customdata[0]}<extra></extra>",
         "legendgroup": "",
         "marker": {
          "color": [
           1.5,
           3,
           4.5,
           8.5,
           10.5,
           7.5,
           11
          ],
          "coloraxis": "coloraxis",
          "size": [
           10,
           10,
           10,
           10,
           10,
           10,
           10
          ],
          "sizemode": "area",
          "sizeref": 0.025,
          "symbol": "circle"
         },
         "mode": "markers+text",
         "name": "",
         "orientation": "v",
         "showlegend": false,
         "text": [
          "Cash & Equivalents",
          "Government Bonds",
          "Corporate Bonds (Investment Grade)",
          "Large-Cap Stocks",
          "Small-Cap Stocks",
          "REITs",
          "Emerging Market Stocks"
         ],
         "textposition": "top center",
         "type": "scatter",
         "x": [
          0.5,
          4,
          5.5,
          15,
          22,
          16,
          25
         ],
         "xaxis": "x",
         "y": [
          1.5,
          3,
          4.5,
          8.5,
          10.5,
          7.5,
          11
         ],
         "yaxis": "y"
        },
        {
         "line": {
          "color": "rgba(100, 100, 100, 0.4)",
          "dash": "dash"
         },
         "mode": "lines",
         "name": "Efficient Frontier (approximation)",
         "textposition": "top center",
         "type": "scatter",
         "x": [
          0,
          0.2777777777777778,
          0.5555555555555556,
          0.8333333333333334,
          1.1111111111111112,
          1.3888888888888888,
          1.6666666666666667,
          1.9444444444444446,
          2.2222222222222223,
          2.5,
          2.7777777777777777,
          3.055555555555556,
          3.3333333333333335,
          3.611111111111111,
          3.8888888888888893,
          4.166666666666667,
          4.444444444444445,
          4.722222222222222,
          5,
          5.277777777777778,
          5.555555555555555,
          5.833333333333334,
          6.111111111111112,
          6.388888888888889,
          6.666666666666667,
          6.944444444444445,
          7.222222222222222,
          7.5,
          7.777777777777779,
          8.055555555555555,
          8.333333333333334,
          8.61111111111111,
          8.88888888888889,
          9.166666666666668,
          9.444444444444445,
          9.722222222222223,
          10,
          10.277777777777779,
          10.555555555555555,
          10.833333333333334,
          11.11111111111111,
          11.38888888888889,
          11.666666666666668,
          11.944444444444445,
          12.222222222222223,
          12.5,
          12.777777777777779,
          13.055555555555555,
          13.333333333333334,
          13.611111111111112,
          13.88888888888889,
          14.166666666666668,
          14.444444444444445,
          14.722222222222223,
          15,
          15.277777777777779,
          15.555555555555557,
          15.833333333333334,
          16.11111111111111,
          16.38888888888889,
          16.666666666666668,
          16.944444444444446,
          17.22222222222222,
          17.5,
          17.77777777777778,
          18.055555555555557,
          18.333333333333336,
          18.61111111111111,
          18.88888888888889,
          19.166666666666668,
          19.444444444444446,
          19.72222222222222,
          20,
          20.27777777777778,
          20.555555555555557,
          20.833333333333336,
          21.11111111111111,
          21.38888888888889,
          21.666666666666668,
          21.944444444444446,
          22.22222222222222,
          22.5,
          22.77777777777778,
          23.055555555555557,
          23.333333333333336,
          23.61111111111111,
          23.88888888888889,
          24.166666666666668,
          24.444444444444446,
          24.722222222222225,
          25,
          25.27777777777778,
          25.555555555555557,
          25.833333333333336,
          26.11111111111111,
          26.38888888888889,
          26.666666666666668,
          26.944444444444446,
          27.222222222222225,
          27.500000000000004
         ],
         "y": [
          1.5,
          2.8176156917368247,
          3.3633899812498247,
          3.782177322938192,
          4.135231383473649,
          4.446278254943948,
          4.7274861218395134,
          4.986083443891982,
          5.226779962499649,
          5.4528470752104745,
          5.666666666666667,
          5.870036867375632,
          6.064354645876384,
          6.250730937913075,
          6.430066485916347,
          6.603103630798288,
          6.770462766947299,
          6.932668671002208,
          7.0901699437494745,
          7.243353646704259,
          7.392556509887896,
          7.5380736442456,
          7.680165405913053,
          7.819062870042958,
          7.954972243679028,
          8.088078458684123,
          8.218548123582124,
          8.346531968814578,
          8.472166887783963,
          8.595577652469334,
          8.716878364870322,
          8.83617369235792,
          8.953559924999299,
          9.069125885243729,
          9.18295371441074,
          9.295119555779046,
          9.405694150420949,
          9.514743359029726,
          9.622328620674136,
          9.728507357554792,
          9.833333333333334,
          9.93685697138191,
          10.039125638299666,
          10.140183897219885,
          10.240073734751263,
          10.338834764831844,
          10.436504412303007,
          10.533118078616166,
          10.628709291752768,
          10.723309842157773,
          10.816949906249123,
          10.909658158863513,
          11.00146187582615,
          11.092387027684449,
          11.182458365518542,
          11.271699499632145,
          11.360132971832694,
          11.447780321927768,
          11.53466214899358,
          11.620798167909266,
          11.706207261596576,
          11.790907529357058,
          11.874916331657275,
          11.958250331675945,
          12.040925533894598,
          12.12295731998497,
          12.204360482220942,
          12.285149254620654,
          12.365337342004416,
          12.444937947136415,
          12.52396379610246,
          12.602427162061856,
          12.680339887498949,
          12.75771340508858,
          12.834558757279536,
          12.91088661469096,
          12.986707293408518,
          13.062030771259673,
          13.136866703140784,
          13.211224435462665,
          13.285113019775793,
          13.358541225631424,
          13.431517552730295,
          13.504050242406612,
          13.5761472884912,
          13.647816447594375,
          13.719065248845984,
          13.789901003127188,
          13.860330811826106,
          13.930361575146915,
          14,
          14.069252607498631,
          14.138125740085917,
          14.20662556831409,
          14.274758097296576,
          14.342529172852036,
          14.409944487358056,
          14.4770095853312,
          14.543729868748775,
          14.610110602126895
         ]
        }
       ],
       "layout": {
        "coloraxis": {
         "colorbar": {
          "title": {
           "text": "Expected Return (%)"
          }
         },
         "colorscale": [
          [
           0,
           "#440154"
          ],
          [
           0.1111111111111111,
           "#482878"
          ],
          [
           0.2222222222222222,
           "#3e4989"
          ],
          [
           0.3333333333333333,
           "#31688e"
          ],
          [
           0.4444444444444444,
           "#26828e"
          ],
          [
           0.5555555555555556,
           "#1f9e89"
          ],
          [
           0.6666666666666666,
           "#35b779"
          ],
          [
           0.7777777777777778,
           "#6ece58"
          ],
          [
           0.8888888888888888,
           "#b5de2b"
          ],
          [
           1,
           "#fde725"
          ]
         ]
        },
        "height": 500,
        "legend": {
         "itemsizing": "constant",
         "tracegroupgap": 0
        },
        "template": {
         "data": {
          "bar": [
           {
            "error_x": {
             "color": "#2a3f5f"
            },
            "error_y": {
             "color": "#2a3f5f"
            },
            "marker": {
             "line": {
              "color": "#E5ECF6",
              "width": 0.5
             },
             "pattern": {
              "fillmode": "overlay",
              "size": 10,
              "solidity": 0.2
             }
            },
            "type": "bar"
           }
          ],
          "barpolar": [
           {
            "marker": {
             "line": {
              "color": "#E5ECF6",
              "width": 0.5
             },
             "pattern": {
              "fillmode": "overlay",
              "size": 10,
              "solidity": 0.2
             }
            },
            "type": "barpolar"
           }
          ],
          "carpet": [
           {
            "aaxis": {
             "endlinecolor": "#2a3f5f",
             "gridcolor": "white",
             "linecolor": "white",
             "minorgridcolor": "white",
             "startlinecolor": "#2a3f5f"
            },
            "baxis": {
             "endlinecolor": "#2a3f5f",
             "gridcolor": "white",
             "linecolor": "white",
             "minorgridcolor": "white",
             "startlinecolor": "#2a3f5f"
            },
            "type": "carpet"
           }
          ],
          "choropleth": [
           {
            "colorbar": {
             "outlinewidth": 0,
             "ticks": ""
            },
            "type": "choropleth"
           }
          ],
          "contour": [
           {
            "colorbar": {
             "outlinewidth": 0,
             "ticks": ""
            },
            "colorscale": [
             [
              0,
              "#0d0887"
             ],
             [
              0.1111111111111111,
              "#46039f"
             ],
             [
              0.2222222222222222,
              "#7201a8"
             ],
             [
              0.3333333333333333,
              "#9c179e"
             ],
             [
              0.4444444444444444,
              "#bd3786"
             ],
             [
              0.5555555555555556,
              "#d8576b"
             ],
             [
              0.6666666666666666,
              "#ed7953"
             ],
             [
              0.7777777777777778,
              "#fb9f3a"
             ],
             [
              0.8888888888888888,
              "#fdca26"
             ],
             [
              1,
              "#f0f921"
             ]
            ],
            "type": "contour"
           }
          ],
          "contourcarpet": [
           {
            "colorbar": {
             "outlinewidth": 0,
             "ticks": ""
            },
            "type": "contourcarpet"
           }
          ],
          "heatmap": [
           {
            "colorbar": {
             "outlinewidth": 0,
             "ticks": ""
            },
            "colorscale": [
             [
              0,
              "#0d0887"
             ],
             [
              0.1111111111111111,
              "#46039f"
             ],
             [
              0.2222222222222222,
              "#7201a8"
             ],
             [
              0.3333333333333333,
              "#9c179e"
             ],
             [
              0.4444444444444444,
              "#bd3786"
             ],
             [
              0.5555555555555556,
              "#d8576b"
             ],
             [
              0.6666666666666666,
              "#ed7953"
             ],
             [
              0.7777777777777778,
              "#fb9f3a"
             ],
             [
              0.8888888888888888,
              "#fdca26"
             ],
             [
              1,
              "#f0f921"
             ]
            ],
            "type": "heatmap"
           }
          ],
          "heatmapgl": [
           {
            "colorbar": {
             "outlinewidth": 0,
             "ticks": ""
            },
            "colorscale": [
             [
              0,
              "#0d0887"
             ],
             [
              0.1111111111111111,
              "#46039f"
             ],
             [
              0.2222222222222222,
              "#7201a8"
             ],
             [
              0.3333333333333333,
              "#9c179e"
             ],
             [
              0.4444444444444444,
              "#bd3786"
             ],
             [
              0.5555555555555556,
              "#d8576b"
             ],
             [
              0.6666666666666666,
              "#ed7953"
             ],
             [
              0.7777777777777778,
              "#fb9f3a"
             ],
             [
              0.8888888888888888,
              "#fdca26"
             ],
             [
              1,
              "#f0f921"
             ]
            ],
            "type": "heatmapgl"
           }
          ],
          "histogram": [
           {
            "marker": {
             "pattern": {
              "fillmode": "overlay",
              "size": 10,
              "solidity": 0.2
             }
            },
            "type": "histogram"
           }
          ],
          "histogram2d": [
           {
            "colorbar": {
             "outlinewidth": 0,
             "ticks": ""
            },
            "colorscale": [
             [
              0,
              "#0d0887"
             ],
             [
              0.1111111111111111,
              "#46039f"
             ],
             [
              0.2222222222222222,
              "#7201a8"
             ],
             [
              0.3333333333333333,
              "#9c179e"
             ],
             [
              0.4444444444444444,
              "#bd3786"
             ],
             [
              0.5555555555555556,
              "#d8576b"
             ],
             [
              0.6666666666666666,
              "#ed7953"
             ],
             [
              0.7777777777777778,
              "#fb9f3a"
             ],
             [
              0.8888888888888888,
              "#fdca26"
             ],
             [
              1,
              "#f0f921"
             ]
            ],
            "type": "histogram2d"
           }
          ],
          "histogram2dcontour": [
           {
            "colorbar": {
             "outlinewidth": 0,
             "ticks": ""
            },
            "colorscale": [
             [
              0,
              "#0d0887"
             ],
             [
              0.1111111111111111,
              "#46039f"
             ],
             [
              0.2222222222222222,
              "#7201a8"
             ],
             [
              0.3333333333333333,
              "#9c179e"
             ],
             [
              0.4444444444444444,
              "#bd3786"
             ],
             [
              0.5555555555555556,
              "#d8576b"
             ],
             [
              0.6666666666666666,
              "#ed7953"
             ],
             [
              0.7777777777777778,
              "#fb9f3a"
             ],
             [
              0.8888888888888888,
              "#fdca26"
             ],
             [
              1,
              "#f0f921"
             ]
            ],
            "type": "histogram2dcontour"
           }
          ],
          "mesh3d": [
           {
            "colorbar": {
             "outlinewidth": 0,
             "ticks": ""
            },
            "type": "mesh3d"
           }
          ],
          "parcoords": [
           {
            "line": {
             "colorbar": {
              "outlinewidth": 0,
              "ticks": ""
             }
            },
            "type": "parcoords"
           }
          ],
          "pie": [
           {
            "automargin": true,
            "type": "pie"
           }
          ],
          "scatter": [
           {
            "fillpattern": {
             "fillmode": "overlay",
             "size": 10,
             "solidity": 0.2
            },
            "type": "scatter"
           }
          ],
          "scatter3d": [
           {
            "line": {
             "colorbar": {
              "outlinewidth": 0,
              "ticks": ""
             }
            },
            "marker": {
             "colorbar": {
              "outlinewidth": 0,
              "ticks": ""
             }
            },
            "type": "scatter3d"
           }
          ],
          "scattercarpet": [
           {
            "marker": {
             "colorbar": {
              "outlinewidth": 0,
              "ticks": ""
             }
            },
            "type": "scattercarpet"
           }
          ],
          "scattergeo": [
           {
            "marker": {
             "colorbar": {
              "outlinewidth": 0,
              "ticks": ""
             }
            },
            "type": "scattergeo"
           }
          ],
          "scattergl": [
           {
            "marker": {
             "colorbar": {
              "outlinewidth": 0,
              "ticks": ""
             }
            },
            "type": "scattergl"
           }
          ],
          "scattermapbox": [
           {
            "marker": {
             "colorbar": {
              "outlinewidth": 0,
              "ticks": ""
             }
            },
            "type": "scattermapbox"
           }
          ],
          "scatterpolar": [
           {
            "marker": {
             "colorbar": {
              "outlinewidth": 0,
              "ticks": ""
             }
            },
            "type": "scatterpolar"
           }
          ],
          "scatterpolargl": [
           {
            "marker": {
             "colorbar": {
              "outlinewidth": 0,
              "ticks": ""
             }
            },
            "type": "scatterpolargl"
           }
          ],
          "scatterternary": [
           {
            "marker": {
             "colorbar": {
              "outlinewidth": 0,
              "ticks": ""
             }
            },
            "type": "scatterternary"
           }
          ],
          "surface": [
           {
            "colorbar": {
             "outlinewidth": 0,
             "ticks": ""
            },
            "colorscale": [
             [
              0,
              "#0d0887"
             ],
             [
              0.1111111111111111,
              "#46039f"
             ],
             [
              0.2222222222222222,
              "#7201a8"
             ],
             [
              0.3333333333333333,
              "#9c179e"
             ],
             [
              0.4444444444444444,
              "#bd3786"
             ],
             [
              0.5555555555555556,
              "#d8576b"
             ],
             [
              0.6666666666666666,
              "#ed7953"
             ],
             [
              0.7777777777777778,
              "#fb9f3a"
             ],
             [
              0.8888888888888888,
              "#fdca26"
             ],
             [
              1,
              "#f0f921"
             ]
            ],
            "type": "surface"
           }
          ],
          "table": [
           {
            "cells": {
             "fill": {
              "color": "#EBF0F8"
             },
             "line": {
              "color": "white"
             }
            },
            "header": {
             "fill": {
              "color": "#C8D4E3"
             },
             "line": {
              "color": "white"
             }
            },
            "type": "table"
           }
          ]
         },
         "layout": {
          "annotationdefaults": {
           "arrowcolor": "#2a3f5f",
           "arrowhead": 0,
           "arrowwidth": 1
          },
          "autotypenumbers": "strict",
          "coloraxis": {
           "colorbar": {
            "outlinewidth": 0,
            "ticks": ""
           }
          },
          "colorscale": {
           "diverging": [
            [
             0,
             "#8e0152"
            ],
            [
             0.1,
             "#c51b7d"
            ],
            [
             0.2,
             "#de77ae"
            ],
            [
             0.3,
             "#f1b6da"
            ],
            [
             0.4,
             "#fde0ef"
            ],
            [
             0.5,
             "#f7f7f7"
            ],
            [
             0.6,
             "#e6f5d0"
            ],
            [
             0.7,
             "#b8e186"
            ],
            [
             0.8,
             "#7fbc41"
            ],
            [
             0.9,
             "#4d9221"
            ],
            [
             1,
             "#276419"
            ]
           ],
           "sequential": [
            [
             0,
             "#0d0887"
            ],
            [
             0.1111111111111111,
             "#46039f"
            ],
            [
             0.2222222222222222,
             "#7201a8"
            ],
            [
             0.3333333333333333,
             "#9c179e"
            ],
            [
             0.4444444444444444,
             "#bd3786"
            ],
            [
             0.5555555555555556,
             "#d8576b"
            ],
            [
             0.6666666666666666,
             "#ed7953"
            ],
            [
             0.7777777777777778,
             "#fb9f3a"
            ],
            [
             0.8888888888888888,
             "#fdca26"
            ],
            [
             1,
             "#f0f921"
            ]
           ],
           "sequentialminus": [
            [
             0,
             "#0d0887"
            ],
            [
             0.1111111111111111,
             "#46039f"
            ],
            [
             0.2222222222222222,
             "#7201a8"
            ],
            [
             0.3333333333333333,
             "#9c179e"
            ],
            [
             0.4444444444444444,
             "#bd3786"
            ],
            [
             0.5555555555555556,
             "#d8576b"
            ],
            [
             0.6666666666666666,
             "#ed7953"
            ],
            [
             0.7777777777777778,
             "#fb9f3a"
            ],
            [
             0.8888888888888888,
             "#fdca26"
            ],
            [
             1,
             "#f0f921"
            ]
           ]
          },
          "colorway": [
           "#636efa",
           "#EF553B",
           "#00cc96",
           "#ab63fa",
           "#FFA15A",
           "#19d3f3",
           "#FF6692",
           "#B6E880",
           "#FF97FF",
           "#FECB52"
          ],
          "font": {
           "color": "#2a3f5f"
          },
          "geo": {
           "bgcolor": "white",
           "lakecolor": "white",
           "landcolor": "#E5ECF6",
           "showlakes": true,
           "showland": true,
           "subunitcolor": "white"
          },
          "hoverlabel": {
           "align": "left"
          },
          "hovermode": "closest",
          "mapbox": {
           "style": "light"
          },
          "paper_bgcolor": "white",
          "plot_bgcolor": "#E5ECF6",
          "polar": {
           "angularaxis": {
            "gridcolor": "white",
            "linecolor": "white",
            "ticks": ""
           },
           "bgcolor": "#E5ECF6",
           "radialaxis": {
            "gridcolor": "white",
            "linecolor": "white",
            "ticks": ""
           }
          },
          "scene": {
           "xaxis": {
            "backgroundcolor": "#E5ECF6",
            "gridcolor": "white",
            "gridwidth": 2,
            "linecolor": "white",
            "showbackground": true,
            "ticks": "",
            "zerolinecolor": "white"
           },
           "yaxis": {
            "backgroundcolor": "#E5ECF6",
            "gridcolor": "white",
            "gridwidth": 2,
            "linecolor": "white",
            "showbackground": true,
            "ticks": "",
            "zerolinecolor": "white"
           },
           "zaxis": {
            "backgroundcolor": "#E5ECF6",
            "gridcolor": "white",
            "gridwidth": 2,
            "linecolor": "white",
            "showbackground": true,
            "ticks": "",
            "zerolinecolor": "white"
           }
          },
          "shapedefaults": {
           "line": {
            "color": "#2a3f5f"
           }
          },
          "ternary": {
           "aaxis": {
            "gridcolor": "white",
            "linecolor": "white",
            "ticks": ""
           },
           "baxis": {
            "gridcolor": "white",
            "linecolor": "white",
            "ticks": ""
           },
           "bgcolor": "#E5ECF6",
           "caxis": {
            "gridcolor": "white",
            "linecolor": "white",
            "ticks": ""
           }
          },
          "title": {
           "x": 0.05
          },
          "xaxis": {
           "automargin": true,
           "gridcolor": "white",
           "linecolor": "white",
           "ticks": "",
           "title": {
            "standoff": 15
           },
           "zerolinecolor": "white",
           "zerolinewidth": 2
          },
          "yaxis": {
           "automargin": true,
           "gridcolor": "white",
           "linecolor": "white",
           "ticks": "",
           "title": {
            "standoff": 15
           },
           "zerolinecolor": "white",
           "zerolinewidth": 2
          }
         }
        },
        "title": {
         "text": "Risk vs. Return by Asset Class"
        },
        "xaxis": {
         "anchor": "y",
         "domain": [
          0,
          1
         ],
         "title": {
          "text": "Risk (Standard Deviation %)"
         }
        },
        "yaxis": {
         "anchor": "x",
         "domain": [
          0,
          1
         ],
         "title": {
          "text": "Expected Annual Return (%)"
         }
        }
       }
      }
     },
     "metadata": {},
     "output_type": "display_data"
    }
   ],
   "source": [
    "# Create risk-return data for different asset classes\n",
    "asset_classes = {\n",
    "    \"Cash & Equivalents\": {\n",
    "        \"return\": 1.5,\n",
    "        \"risk\": 0.5,\n",
    "        \"description\": \"Money market funds, Treasury bills, short-term CDs\",\n",
    "    },\n",
    "    \"Government Bonds\": {\n",
    "        \"return\": 3.0,\n",
    "        \"risk\": 4.0,\n",
    "        \"description\": \"Treasury bonds, government agency bonds\",\n",
    "    },\n",
    "    \"Corporate Bonds (Investment Grade)\": {\n",
    "        \"return\": 4.5,\n",
    "        \"risk\": 5.5,\n",
    "        \"description\": \"Bonds from large, stable companies with good credit ratings\",\n",
    "    },\n",
    "    \"Large-Cap Stocks\": {\n",
    "        \"return\": 8.5,\n",
    "        \"risk\": 15.0,\n",
    "        \"description\": \"Stocks of large, established companies (e.g., S&P 500)\",\n",
    "    },\n",
    "    \"Small-Cap Stocks\": {\n",
    "        \"return\": 10.5,\n",
    "        \"risk\": 22.0,\n",
    "        \"description\": \"Smaller companies with high growth potential\",\n",
    "    },\n",
    "    \"REITs\": {\"return\": 7.5, \"risk\": 16.0, \"description\": \"Real Estate Investment Trusts\"},\n",
    "    \"Emerging Market Stocks\": {\n",
    "        \"return\": 11.0,\n",
    "        \"risk\": 25.0,\n",
    "        \"description\": \"Stocks from developing economies (e.g., Brazil, India)\",\n",
    "    },\n",
    "}\n",
    "\n",
    "# Create dataframe for plotting\n",
    "risk_return_df = pd.DataFrame(\n",
    "    {\n",
    "        \"Asset Class\": list(asset_classes.keys()),\n",
    "        \"Expected Return (%)\": [asset_classes[ac][\"return\"] for ac in asset_classes],\n",
    "        \"Risk (Volatility %)\": [asset_classes[ac][\"risk\"] for ac in asset_classes],\n",
    "        \"Description\": [asset_classes[ac][\"description\"] for ac in asset_classes],\n",
    "    }\n",
    ")\n",
    "\n",
    "# Create the scatter plot with Plotly\n",
    "fig = px.scatter(\n",
    "    risk_return_df,\n",
    "    x=\"Risk (Volatility %)\",\n",
    "    y=\"Expected Return (%)\",\n",
    "    text=\"Asset Class\",\n",
    "    size=[10] * len(risk_return_df),  # Fixed size for all points\n",
    "    hover_data=[\"Description\"],\n",
    "    title=\"Risk vs. Return by Asset Class\",\n",
    "    color=\"Expected Return (%)\",\n",
    "    color_continuous_scale=\"Viridis\",\n",
    ")\n",
    "\n",
    "# Add efficient frontier curve (simplified approximation)\n",
    "x_curve = np.linspace(0, max(risk_return_df[\"Risk (Volatility %)\"]) * 1.1, 100)\n",
    "y_curve = 1.5 + 2.5 * np.sqrt(x_curve)  # Simplified curve formula\n",
    "\n",
    "fig.add_trace(\n",
    "    go.Scatter(\n",
    "        x=x_curve,\n",
    "        y=y_curve,\n",
    "        mode=\"lines\",\n",
    "        line=dict(color=\"rgba(100, 100, 100, 0.4)\", dash=\"dash\"),\n",
    "        name=\"Efficient Frontier (approximation)\",\n",
    "    )\n",
    ")\n",
    "\n",
    "# Customize layout\n",
    "fig.update_traces(textposition=\"top center\")\n",
    "fig.update_layout(\n",
    "    height=500, xaxis_title=\"Risk (Standard Deviation %)\", yaxis_title=\"Expected Annual Return (%)\"\n",
    ")\n",
    "\n",
    "fig.show()"
   ]
  },
  {
   "cell_type": "markdown",
   "metadata": {},
   "source": [
    "## Simple Portfolio Allocation Simulator\n",
    "\n",
    "Let's create a basic tool to help users understand different portfolio allocations.\n"
   ]
  },
  {
   "cell_type": "code",
   "execution_count": 8,
   "metadata": {},
   "outputs": [
    {
     "data": {
      "application/vnd.jupyter.widget-view+json": {
       "model_id": "b0bc1ff3d4474aecb1ff01162ccd4f4e",
       "version_major": 2,
       "version_minor": 0
      },
      "text/plain": [
       "HTML(value='<h2>Portfolio Allocation Explorer</h2>')"
      ]
     },
     "metadata": {},
     "output_type": "display_data"
    },
    {
     "data": {
      "application/vnd.jupyter.widget-view+json": {
       "model_id": "c0f7f9c7b5a5423abfafcb1ef0a97208",
       "version_major": 2,
       "version_minor": 0
      },
      "text/plain": [
       "HTML(value='<p>Select a portfolio type to see the typical allocation:</p>')"
      ]
     },
     "metadata": {},
     "output_type": "display_data"
    },
    {
     "data": {
      "application/vnd.jupyter.widget-view+json": {
       "model_id": "6e0d7896011b4d0dbfda0b21732b9769",
       "version_major": 2,
       "version_minor": 0
      },
      "text/plain": [
       "VBox(children=(Dropdown(description='Portfolio Type:', index=2, layout=Layout(width='50%'), options=('Conserva…"
      ]
     },
     "metadata": {},
     "output_type": "display_data"
    }
   ],
   "source": [
    "# Define portfolio allocation presets\n",
    "portfolio_presets = {\n",
    "    \"Conservative\": {\n",
    "        \"Cash\": 10,\n",
    "        \"Bonds\": 60,\n",
    "        \"Stocks (US)\": 20,\n",
    "        \"Stocks (International)\": 5,\n",
    "        \"Alternative Investments\": 5,\n",
    "    },\n",
    "    \"Moderate\": {\n",
    "        \"Cash\": 5,\n",
    "        \"Bonds\": 40,\n",
    "        \"Stocks (US)\": 35,\n",
    "        \"Stocks (International)\": 15,\n",
    "        \"Alternative Investments\": 5,\n",
    "    },\n",
    "    \"Balanced\": {\n",
    "        \"Cash\": 5,\n",
    "        \"Bonds\": 30,\n",
    "        \"Stocks (US)\": 40,\n",
    "        \"Stocks (International)\": 20,\n",
    "        \"Alternative Investments\": 5,\n",
    "    },\n",
    "    \"Growth\": {\n",
    "        \"Cash\": 5,\n",
    "        \"Bonds\": 15,\n",
    "        \"Stocks (US)\": 50,\n",
    "        \"Stocks (International)\": 20,\n",
    "        \"Alternative Investments\": 10,\n",
    "    },\n",
    "    \"Aggressive Growth\": {\n",
    "        \"Cash\": 5,\n",
    "        \"Bonds\": 5,\n",
    "        \"Stocks (US)\": 55,\n",
    "        \"Stocks (International)\": 25,\n",
    "        \"Alternative Investments\": 10,\n",
    "    },\n",
    "}\n",
    "\n",
    "# Portfolio preset dropdown\n",
    "preset_dropdown = widgets.Dropdown(\n",
    "    options=list(portfolio_presets.keys()),\n",
    "    value=\"Balanced\",\n",
    "    description=\"Portfolio Type:\",\n",
    "    style={\"description_width\": \"initial\"},\n",
    "    layout=widgets.Layout(width=\"50%\"),\n",
    ")\n",
    "\n",
    "# Output area for results\n",
    "portfolio_output = widgets.Output()\n",
    "\n",
    "\n",
    "def update_portfolio(*args):\n",
    "    with portfolio_output:\n",
    "        clear_output()\n",
    "        preset = preset_dropdown.value\n",
    "        allocation = portfolio_presets[preset]\n",
    "\n",
    "        # Create allocation pie chart\n",
    "        fig = go.Figure()\n",
    "        fig.add_trace(\n",
    "            go.Pie(\n",
    "                labels=list(allocation.keys()),\n",
    "                values=list(allocation.values()),\n",
    "                textinfo=\"label+percent\",\n",
    "                hole=0.3,\n",
    "                marker=dict(colors=px.colors.qualitative.Plotly),\n",
    "            )\n",
    "        )\n",
    "        fig.update_layout(title=f\"{preset} Portfolio Allocation\", height=400)\n",
    "        fig.show()\n",
    "\n",
    "        # Display expected return and risk\n",
    "        # Simple approximation based on preset type\n",
    "        risk_levels = {\n",
    "            \"Conservative\": 5.0,\n",
    "            \"Moderate\": 8.0,\n",
    "            \"Balanced\": 10.0,\n",
    "            \"Growth\": 13.0,\n",
    "            \"Aggressive Growth\": 16.0,\n",
    "        }\n",
    "\n",
    "        return_levels = {\n",
    "            \"Conservative\": 4.0,\n",
    "            \"Moderate\": 5.5,\n",
    "            \"Balanced\": 6.5,\n",
    "            \"Growth\": 7.5,\n",
    "            \"Aggressive Growth\": 8.5,\n",
    "        }\n",
    "\n",
    "        display(HTML(f\"<h3>Portfolio Characteristics</h3>\"))\n",
    "        display(HTML(f\"<p><b>Expected Annual Return:</b> {return_levels[preset]:.2f}%</p>\"))\n",
    "        display(HTML(f\"<p><b>Expected Volatility:</b> {risk_levels[preset]:.2f}%</p>\"))\n",
    "\n",
    "\n",
    "# Connect preset dropdown to update function\n",
    "preset_dropdown.observe(update_portfolio, \"value\")\n",
    "\n",
    "# Display interface\n",
    "display(widgets.HTML(\"<h2>Portfolio Allocation Explorer</h2>\"))\n",
    "display(widgets.HTML(\"<p>Select a portfolio type to see the typical allocation:</p>\"))\n",
    "display(widgets.VBox([preset_dropdown, portfolio_output]))\n",
    "\n",
    "# Initial display\n",
    "update_portfolio()"
   ]
  },
  {
   "cell_type": "markdown",
   "metadata": {},
   "source": [
    "## Financial Sentiment Analysis\n",
    "\n",
    "Understanding the sentiment behind financial news and reports is crucial for making informed investment decisions. Here we demonstrate how AI can analyze sentiment in financial text.\n"
   ]
  },
  {
   "cell_type": "code",
   "execution_count": 9,
   "metadata": {},
   "outputs": [
    {
     "data": {
      "application/vnd.jupyter.widget-view+json": {
       "model_id": "dba1a649ff024806aa92bbfd252445b6",
       "version_major": 2,
       "version_minor": 0
      },
      "text/plain": [
       "HTML(value='<h2>Financial Text Sentiment Analyzer</h2>')"
      ]
     },
     "metadata": {},
     "output_type": "display_data"
    },
    {
     "data": {
      "application/vnd.jupyter.widget-view+json": {
       "model_id": "3de751c4c83a46b2a399ef708290a777",
       "version_major": 2,
       "version_minor": 0
      },
      "text/plain": [
       "HTML(value='<p>Analyze the sentiment of financial news and statements to gauge market sentiment.</p>')"
      ]
     },
     "metadata": {},
     "output_type": "display_data"
    },
    {
     "data": {
      "application/vnd.jupyter.widget-view+json": {
       "model_id": "a6e2f617fba448daa82769c6d47c0b9e",
       "version_major": 2,
       "version_minor": 0
      },
      "text/plain": [
       "VBox(children=(HTML(value='<p><b>Select from examples or enter your own text:</b></p>'), Dropdown(description=…"
      ]
     },
     "metadata": {},
     "output_type": "display_data"
    }
   ],
   "source": [
    "# Sample financial news headlines and statements\n",
    "financial_texts = [\n",
    "    \"Company XYZ reports record profits for Q3, exceeding analyst expectations.\",\n",
    "    \"Markets tumble amid concerns over rising inflation and interest rates.\",\n",
    "    \"Tech sector faces regulatory challenges as new antitrust laws are proposed.\",\n",
    "    \"Renewable energy stocks surge following new climate policy announcements.\",\n",
    "    \"Banking sector shows resilience despite economic uncertainty.\",\n",
    "    \"Consumer spending decreases for the third consecutive month.\",\n",
    "    \"Manufacturing output falls short of projections, indicating potential slowdown.\",\n",
    "    \"Startup raises $50M in Series B funding to expand operations globally.\",\n",
    "]\n",
    "\n",
    "# Create an interface for text sentiment analysis\n",
    "text_input = widgets.Textarea(\n",
    "    value=financial_texts[0],\n",
    "    placeholder=\"Enter financial text to analyze...\",\n",
    "    description=\"Text:\",\n",
    "    layout=widgets.Layout(width=\"90%\", height=\"100px\"),\n",
    ")\n",
    "\n",
    "example_dropdown = widgets.Dropdown(\n",
    "    options=financial_texts,\n",
    "    value=financial_texts[0],\n",
    "    description=\"Examples:\",\n",
    "    style={\"description_width\": \"initial\"},\n",
    "    layout=widgets.Layout(width=\"90%\"),\n",
    ")\n",
    "\n",
    "analyze_button = widgets.Button(\n",
    "    description=\"Analyze Sentiment\", button_style=\"primary\", layout=widgets.Layout(width=\"200px\")\n",
    ")\n",
    "\n",
    "sentiment_output = widgets.Output()\n",
    "\n",
    "\n",
    "def update_text_input(change):\n",
    "    text_input.value = change.new\n",
    "\n",
    "\n",
    "def analyze_sentiment(b):\n",
    "    with sentiment_output:\n",
    "        clear_output()\n",
    "        text = text_input.value\n",
    "\n",
    "        if not text.strip():\n",
    "            print(\"Please enter some text to analyze.\")\n",
    "            return\n",
    "\n",
    "        # Get sentiment scores using VADER\n",
    "        sentiment_scores = sentiment_analyzer.polarity_scores(text)\n",
    "        compound_score = sentiment_scores[\"compound\"]\n",
    "\n",
    "        # Determine sentiment category\n",
    "        if compound_score >= 0.05:\n",
    "            sentiment = \"Positive\"\n",
    "            color = \"green\"\n",
    "        elif compound_score <= -0.05:\n",
    "            sentiment = \"Negative\"\n",
    "            color = \"red\"\n",
    "        else:\n",
    "            sentiment = \"Neutral\"\n",
    "            color = \"gray\"\n",
    "\n",
    "        # Create visualization\n",
    "        fig = go.Figure()\n",
    "\n",
    "        # Add sentiment score gauge\n",
    "        fig.add_trace(\n",
    "            go.Indicator(\n",
    "                mode=\"gauge+number\",\n",
    "                value=compound_score * 100,  # Scale to -100 to 100\n",
    "                title={\"text\": \"Sentiment Score\"},\n",
    "                gauge={\n",
    "                    \"axis\": {\"range\": [-100, 100]},\n",
    "                    \"bar\": {\"color\": color},\n",
    "                    \"steps\": [\n",
    "                        {\"range\": [-100, -5], \"color\": \"lightcoral\"},\n",
    "                        {\"range\": [-5, 5], \"color\": \"lightgray\"},\n",
    "                        {\"range\": [5, 100], \"color\": \"lightgreen\"},\n",
    "                    ],\n",
    "                    \"threshold\": {\n",
    "                        \"line\": {\"color\": \"black\", \"width\": 3},\n",
    "                        \"thickness\": 0.75,\n",
    "                        \"value\": compound_score * 100,\n",
    "                    },\n",
    "                },\n",
    "            )\n",
    "        )\n",
    "\n",
    "        fig.update_layout(height=300, width=600, margin=dict(l=50, r=50, t=30, b=30))\n",
    "\n",
    "        # Display results\n",
    "        display(\n",
    "            HTML(\n",
    "                f\"<h3>Sentiment Analysis Result: <span style='color:{color}'>{sentiment}</span></h3>\"\n",
    "            )\n",
    "        )\n",
    "        display(HTML(f\"<p><b>Text analyzed:</b> {text}</p>\"))\n",
    "        display(HTML(\"<p><b>Detailed scores:</b></p>\"))\n",
    "        display(pd.DataFrame([sentiment_scores]))\n",
    "        fig.show()\n",
    "\n",
    "        # Investment implication (simplified example)\n",
    "        if sentiment == \"Positive\":\n",
    "            implication = \"This positive sentiment may indicate favorable market conditions or company performance.\"\n",
    "        elif sentiment == \"Negative\":\n",
    "            implication = \"This negative sentiment may signal potential risks or market concerns.\"\n",
    "        else:\n",
    "            implication = \"The neutral sentiment suggests balanced market conditions without strong signals in either direction.\"\n",
    "\n",
    "        display(HTML(f\"<p><b>Potential investment implication:</b> {implication}</p>\"))\n",
    "\n",
    "\n",
    "example_dropdown.observe(update_text_input, \"value\")\n",
    "analyze_button.on_click(analyze_sentiment)\n",
    "\n",
    "# Display the widgets\n",
    "display(widgets.HTML(\"<h2>Financial Text Sentiment Analyzer</h2>\"))\n",
    "display(\n",
    "    widgets.HTML(\n",
    "        \"<p>Analyze the sentiment of financial news and statements to gauge market sentiment.</p>\"\n",
    "    )\n",
    ")\n",
    "display(\n",
    "    widgets.VBox(\n",
    "        [\n",
    "            widgets.HTML(\"<p><b>Select from examples or enter your own text:</b></p>\"),\n",
    "            example_dropdown,\n",
    "            text_input,\n",
    "            analyze_button,\n",
    "            sentiment_output,\n",
    "        ]\n",
    "    )\n",
    ")\n",
    "\n",
    "# Initial analysis\n",
    "analyze_sentiment(None)"
   ]
  },
  {
   "cell_type": "markdown",
   "metadata": {},
   "source": [
    "## Personalized Financial Advice with AI\n",
    "\n",
    "Let's use a language model to provide personalized financial advice based on user's financial situation and goals.\n"
   ]
  },
  {
   "cell_type": "code",
   "execution_count": null,
   "metadata": {},
   "outputs": [
    {
     "data": {
      "application/vnd.jupyter.widget-view+json": {
       "model_id": "4042cfbcd9e746d79c29ad3076fd45d7",
       "version_major": 2,
       "version_minor": 0
      },
      "text/plain": [
       "HTML(value='<h2>AI-Powered Financial Advisor</h2>')"
      ]
     },
     "metadata": {},
     "output_type": "display_data"
    },
    {
     "data": {
      "application/vnd.jupyter.widget-view+json": {
       "model_id": "a11c3c49c3a44788a1d90a98cc09aeeb",
       "version_major": 2,
       "version_minor": 0
      },
      "text/plain": [
       "HTML(value='<p>Enter your financial information to receive personalized advice:</p>')"
      ]
     },
     "metadata": {},
     "output_type": "display_data"
    },
    {
     "data": {
      "application/vnd.jupyter.widget-view+json": {
       "model_id": "cdfac0f2b61046ceb4c9161f4a0a43af",
       "version_major": 2,
       "version_minor": 0
      },
      "text/plain": [
       "VBox(children=(HBox(children=(VBox(children=(IntSlider(value=35, description='Age:', max=80, min=18, style=Sli…"
      ]
     },
     "metadata": {},
     "output_type": "display_data"
    }
   ],
   "source": [
    "# Financial situation parameters\n",
    "age_slider = widgets.IntSlider(\n",
    "    value=35, min=18, max=80, step=1, description=\"Age:\", style={\"description_width\": \"initial\"}\n",
    ")\n",
    "\n",
    "income_slider = widgets.IntSlider(\n",
    "    value=75000,\n",
    "    min=20000,\n",
    "    max=200000,\n",
    "    step=5000,\n",
    "    description=\"Annual Income ($):\",\n",
    "    style={\"description_width\": \"initial\"},\n",
    ")\n",
    "\n",
    "savings_slider = widgets.IntSlider(\n",
    "    value=30000,\n",
    "    min=0,\n",
    "    max=500000,\n",
    "    step=5000,\n",
    "    description=\"Current Savings ($):\",\n",
    "    style={\"description_width\": \"initial\"},\n",
    ")\n",
    "\n",
    "debt_slider = widgets.IntSlider(\n",
    "    value=15000,\n",
    "    min=0,\n",
    "    max=200000,\n",
    "    step=5000,\n",
    "    description=\"Total Debt ($):\",\n",
    "    style={\"description_width\": \"initial\"},\n",
    ")\n",
    "\n",
    "risk_tolerance = widgets.RadioButtons(\n",
    "    options=[\"Low\", \"Medium\", \"High\"],\n",
    "    value=\"Medium\",\n",
    "    description=\"Risk Tolerance:\",\n",
    "    style={\"description_width\": \"initial\"},\n",
    ")\n",
    "\n",
    "financial_goals = widgets.SelectMultiple(\n",
    "    options=[\n",
    "        \"Retirement\",\n",
    "        \"Home Purchase\",\n",
    "        \"Education Funding\",\n",
    "        \"Debt Repayment\",\n",
    "        \"Emergency Fund\",\n",
    "        \"Wealth Building\",\n",
    "    ],\n",
    "    value=[\"Retirement\", \"Emergency Fund\"],\n",
    "    description=\"Financial Goals:\",\n",
    "    style={\"description_width\": \"initial\"},\n",
    "    layout=widgets.Layout(width=\"50%\"),\n",
    ")\n",
    "\n",
    "advice_level = widgets.RadioButtons(\n",
    "    options=[\"Beginner\", \"Intermediate\", \"Advanced\"],\n",
    "    value=\"Intermediate\",\n",
    "    description=\"Knowledge Level:\",\n",
    "    style={\"description_width\": \"initial\"},\n",
    ")\n",
    "\n",
    "get_advice_button = widgets.Button(\n",
    "    description=\"Get Personalized Advice\",\n",
    "    button_style=\"primary\",\n",
    "    layout=widgets.Layout(width=\"200px\"),\n",
    ")\n",
    "\n",
    "advice_output = widgets.Output()\n",
    "\n",
    "\n",
    "def get_ml_advice(profile):\n",
    "    \"\"\"Generate advice using a rule-based system as fallback when OpenAI is not available\"\"\"\n",
    "    age = profile[\"age\"]\n",
    "    income = profile[\"income\"]\n",
    "    savings = profile[\"savings\"]\n",
    "    debt = profile[\"debt\"]\n",
    "    risk = profile[\"risk_tolerance\"]\n",
    "    goals = profile[\"financial_goals\"]\n",
    "    knowledge = profile[\"knowledge_level\"]\n",
    "\n",
    "    # Calculate some financial ratios\n",
    "    savings_to_income = savings / income if income > 0 else 0\n",
    "    debt_to_income = debt / income if income > 0 else 0\n",
    "\n",
    "    advice = []\n",
    "\n",
    "    # Age-based advice\n",
    "    if age < 30:\n",
    "        stocks_allocation = 80 if risk == \"High\" else (70 if risk == \"Medium\" else 60)\n",
    "        advice.append(\n",
    "            f\"At your age of {age}, you have a long investment horizon. Consider a {stocks_allocation}% allocation to stocks for long-term growth.\"\n",
    "        )\n",
    "    elif age < 50:\n",
    "        stocks_allocation = 70 if risk == \"High\" else (60 if risk == \"Medium\" else 50)\n",
    "        advice.append(\n",
    "            f\"At your age of {age}, you're in your peak earning years. Consider a {stocks_allocation}% allocation to stocks, balanced with fixed income.\"\n",
    "        )\n",
    "    else:\n",
    "        stocks_allocation = 60 if risk == \"High\" else (50 if risk == \"Medium\" else 40)\n",
    "        advice.append(\n",
    "            f\"At your age of {age}, as you approach retirement, consider a more conservative {stocks_allocation}% allocation to stocks.\"\n",
    "        )\n",
    "\n",
    "    # Savings advice\n",
    "    if savings_to_income < 0.5:\n",
    "        advice.append(\n",
    "            f\"Your savings of ${savings:,} is less than half your annual income. Consider increasing your emergency fund to 3-6 months of expenses.\"\n",
    "        )\n",
    "    else:\n",
    "        advice.append(\n",
    "            f\"Your savings of ${savings:,} is {savings_to_income:.1f}x your annual income. This is a good foundation.\"\n",
    "        )\n",
    "\n",
    "    # Debt advice\n",
    "    if debt_to_income > 0.4:\n",
    "        advice.append(\n",
    "            f\"Your debt-to-income ratio of {debt_to_income:.2f} is high. Consider prioritizing debt reduction.\"\n",
    "        )\n",
    "    elif debt_to_income > 0.2:\n",
    "        advice.append(\n",
    "            f\"Your debt-to-income ratio of {debt_to_income:.2f} is moderate. Balance debt repayment with investing.\"\n",
    "        )\n",
    "    else:\n",
    "        advice.append(\n",
    "            f\"Your debt-to-income ratio of {debt_to_income:.2f} is relatively low. You're in a good position to focus on investing.\"\n",
    "        )\n",
    "\n",
    "    # Goal-specific advice\n",
    "    if \"Retirement\" in goals:\n",
    "        if age < 40:\n",
    "            advice.append(\n",
    "                \"For retirement, maximize contributions to tax-advantaged accounts like 401(k) and IRAs.\"\n",
    "            )\n",
    "        else:\n",
    "            advice.append(\n",
    "                \"For retirement, consider catch-up contributions and gradually shifting to more conservative investments.\"\n",
    "            )\n",
    "\n",
    "    if \"Home Purchase\" in goals:\n",
    "        advice.append(\n",
    "            \"For a home purchase, consider keeping your down payment funds in a high-yield savings account or short-term CDs.\"\n",
    "        )\n",
    "\n",
    "    if \"Education Funding\" in goals:\n",
    "        advice.append(\n",
    "            \"For education funding, consider 529 plans for tax-advantaged education savings.\"\n",
    "        )\n",
    "\n",
    "    # Format based on knowledge level\n",
    "    if knowledge == \"Beginner\":\n",
    "        return \"\\n\\n\".join(advice)\n",
    "    elif knowledge == \"Intermediate\":\n",
    "        # Add some more technical terms for intermediate level\n",
    "        advanced_points = [\n",
    "            f\"Consider a portfolio with a Sharpe ratio optimized for your risk profile of {risk}.\",\n",
    "            \"Review expense ratios on your investments to minimize drag on returns.\",\n",
    "        ]\n",
    "        return \"\\n\\n\".join(advice + advanced_points)\n",
    "    else:  # Advanced\n",
    "        # Add even more technical concepts for advanced level\n",
    "        advanced_points = [\n",
    "            f\"Implement a factor-based investment approach with tilts toward value, quality, and momentum based on your {risk} risk tolerance.\",\n",
    "            \"Consider tax-loss harvesting strategies to optimize after-tax returns.\",\n",
    "            \"Evaluate the use of options strategies for hedging or income generation based on market conditions.\",\n",
    "        ]\n",
    "        return \"\\n\\n\".join(advice + advanced_points)\n",
    "\n",
    "\n",
    "def get_llm_advice(profile):\n",
    "    \"\"\"Generate advice using OpenAI\"\"\"\n",
    "    if not has_openai_key:\n",
    "        return get_ml_advice(profile)  # Fallback to rule-based system\n",
    "\n",
    "    try:\n",
    "        # Format the financial profile for the prompt\n",
    "        goals_str = \", \".join(profile[\"financial_goals\"])\n",
    "\n",
    "        prompt = f\"\"\"You are a personalized financial advisor. Provide specific financial advice for a user with the following profile:\n",
    "        \n",
    "        Age: {profile['age']}\n",
    "        Annual Income: ${profile['income']:,}\n",
    "        Current Savings: ${profile['savings']:,}\n",
    "        Total Debt: ${profile['debt']:,}\n",
    "        Risk Tolerance: {profile['risk_tolerance']}\n",
    "        Financial Goals: {goals_str}\n",
    "        \n",
    "        The user has a {profile['knowledge_level'].lower()} level of financial knowledge. \n",
    "        Tailor your response to this knowledge level, using appropriate terminology and concepts.\n",
    "        \n",
    "        Provide specific, actionable advice in these areas:\n",
    "        1. Asset allocation and investment strategy\n",
    "        2. Savings recommendations\n",
    "        3. Debt management\n",
    "        4. Specific advice for each of their financial goals\n",
    "        5. Tax considerations\n",
    "        \n",
    "        Your response should be well-structured and specifically tailored to their situation.\"\"\"\n",
    "\n",
    "        response = client.chat.completions.create(\n",
    "            model=\"gpt-3.5-turbo\",\n",
    "            messages=[\n",
    "                {\n",
    "                    \"role\": \"system\",\n",
    "                    \"content\": \"You are a financial advisor AI that provides personalized financial advice.\",\n",
    "                },\n",
    "                {\"role\": \"user\", \"content\": prompt},\n",
    "            ],\n",
    "            max_tokens=800,\n",
    "            temperature=0.7,\n",
    "        )\n",
    "\n",
    "        return response.choices[0].message.content\n",
    "    except Exception as e:\n",
    "        print(f\"Error with OpenAI API: {e}\")\n",
    "        return get_ml_advice(profile)  # Fallback to rule-based system\n",
    "\n",
    "\n",
    "def generate_advice(b):\n",
    "    with advice_output:\n",
    "        clear_output()\n",
    "        display(\n",
    "            HTML(\"<p>Analyzing your financial profile and generating personalized advice...</p>\")\n",
    "        )\n",
    "\n",
    "        # Create financial profile from inputs\n",
    "        profile = {\n",
    "            \"age\": age_slider.value,\n",
    "            \"income\": income_slider.value,\n",
    "            \"savings\": savings_slider.value,\n",
    "            \"debt\": debt_slider.value,\n",
    "            \"risk_tolerance\": risk_tolerance.value,\n",
    "            \"financial_goals\": financial_goals.value,\n",
    "            \"knowledge_level\": advice_level.value,\n",
    "        }\n",
    "\n",
    "        # Machine learning part: Classify the user's financial profile\n",
    "        # Create a feature vector\n",
    "        feature_vector = np.array(\n",
    "            [\n",
    "                [\n",
    "                    profile[\"age\"],\n",
    "                    profile[\"income\"],\n",
    "                    profile[\"savings\"],\n",
    "                    profile[\"debt\"],\n",
    "                    (\n",
    "                        1\n",
    "                        if profile[\"risk_tolerance\"] == \"Low\"\n",
    "                        else (2 if profile[\"risk_tolerance\"] == \"Medium\" else 3)\n",
    "                    ),\n",
    "                    len(profile[\"financial_goals\"]),\n",
    "                ]\n",
    "            ]\n",
    "        )\n",
    "\n",
    "        # Normalize features\n",
    "        scaler = StandardScaler()\n",
    "        normalized_vector = scaler.fit_transform(feature_vector)\n",
    "\n",
    "        # Use KMeans to classify the profile (in real application, this would be trained on more data)\n",
    "        kmeans = KMeans(n_clusters=3, random_state=42, n_init=10)\n",
    "        cluster = kmeans.fit_predict(normalized_vector)[0]\n",
    "\n",
    "        # Map cluster to a profile type\n",
    "        profile_types = [\"Conservative Saver\", \"Balanced Investor\", \"Growth-Focused Investor\"]\n",
    "        profile_type = profile_types[cluster]\n",
    "\n",
    "        clear_output()\n",
    "\n",
    "        # Display financial profile summary\n",
    "        display(HTML(f\"<h3>Your Financial Profile</h3>\"))\n",
    "        display(HTML(f\"<p><b>Age:</b> {profile['age']} years</p>\"))\n",
    "        display(HTML(f\"<p><b>Annual Income:</b> ${profile['income']:,}</p>\"))\n",
    "        display(HTML(f\"<p><b>Current Savings:</b> ${profile['savings']:,}</p>\"))\n",
    "        display(HTML(f\"<p><b>Total Debt:</b> ${profile['debt']:,}</p>\"))\n",
    "        display(HTML(f\"<p><b>Risk Tolerance:</b> {profile['risk_tolerance']}</p>\"))\n",
    "        display(HTML(f\"<p><b>Financial Goals:</b> {', '.join(profile['financial_goals'])}</p>\"))\n",
    "        display(HTML(f\"<p><b>Knowledge Level:</b> {profile['knowledge_level']}</p>\"))\n",
    "        display(HTML(f\"<p><b>AI-Determined Profile Type:</b> {profile_type}</p>\"))\n",
    "\n",
    "        # Display personalized advice\n",
    "        display(HTML(f\"<h3>Personalized Financial Advice</h3>\"))\n",
    "        advice = get_llm_advice(profile)\n",
    "        display(Markdown(advice))\n",
    "\n",
    "\n",
    "get_advice_button.on_click(generate_advice)\n",
    "\n",
    "# Display the widgets\n",
    "display(widgets.HTML(\"<h2>AI-Powered Financial Advisor</h2>\"))\n",
    "display(widgets.HTML(\"<p>Enter your financial information to receive personalized advice:</p>\"))\n",
    "display(\n",
    "    widgets.VBox(\n",
    "        [\n",
    "            widgets.HBox(\n",
    "                [\n",
    "                    widgets.VBox([age_slider, income_slider, savings_slider, debt_slider]),\n",
    "                    widgets.VBox([risk_tolerance, financial_goals, advice_level]),\n",
    "                ]\n",
    "            ),\n",
    "            get_advice_button,\n",
    "            advice_output,\n",
    "        ]\n",
    "    )\n",
    ")"
   ]
  },
  {
   "cell_type": "markdown",
   "metadata": {},
   "source": [
    "## Machine Learning-Based Investment Risk Assessment\n",
    "\n",
    "Let's demonstrate how machine learning can be used to assess investment risk based on various factors.\n"
   ]
  },
  {
   "cell_type": "code",
   "execution_count": 11,
   "metadata": {},
   "outputs": [
    {
     "data": {
      "application/vnd.jupyter.widget-view+json": {
       "model_id": "fc44a99e684c497cb3ae914c33d0a988",
       "version_major": 2,
       "version_minor": 0
      },
      "text/plain": [
       "HTML(value='<h2>ML-Based Investment Risk Assessment</h2>')"
      ]
     },
     "metadata": {},
     "output_type": "display_data"
    },
    {
     "data": {
      "application/vnd.jupyter.widget-view+json": {
       "model_id": "680bccbe312e4ae8a51b0e77ef6158cd",
       "version_major": 2,
       "version_minor": 0
      },
      "text/plain": [
       "HTML(value='<p><i>Model accuracy on test data: 93.00%</i></p>')"
      ]
     },
     "metadata": {},
     "output_type": "display_data"
    },
    {
     "data": {
      "application/vnd.jupyter.widget-view+json": {
       "model_id": "818590537efd48eab39a3e464e7d0a76",
       "version_major": 2,
       "version_minor": 0
      },
      "text/plain": [
       "HTML(value='<p>Adjust the parameters below to assess investment risk:</p>')"
      ]
     },
     "metadata": {},
     "output_type": "display_data"
    },
    {
     "data": {
      "application/vnd.plotly.v1+json": {
       "config": {
        "plotlyServerURL": "https://plot.ly"
       },
       "data": [
        {
         "alignmentgroup": "True",
         "hovertemplate": "Importance=%{marker.color}<br>Feature=%{y}<extra></extra>",
         "legendgroup": "",
         "marker": {
          "color": [
           0.4450612401230409,
           0.3083795745146937,
           0.06831863683476823,
           0.06259936782929815,
           0.06007628203767258,
           0.05556489866052643
          ],
          "coloraxis": "coloraxis",
          "pattern": {
           "shape": ""
          }
         },
         "name": "",
         "offsetgroup": "",
         "orientation": "h",
         "showlegend": false,
         "textposition": "auto",
         "type": "bar",
         "x": [
          0.4450612401230409,
          0.3083795745146937,
          0.06831863683476823,
          0.06259936782929815,
          0.06007628203767258,
          0.05556489866052643
         ],
         "xaxis": "x",
         "y": [
          "Market_Volatility",
          "Price_to_Earnings",
          "Interest_Rate",
          "Dividend_Yield",
          "Debt_to_Equity",
          "Market_Cap"
         ],
         "yaxis": "y"
        }
       ],
       "layout": {
        "barmode": "relative",
        "coloraxis": {
         "colorbar": {
          "title": {
           "text": "Importance"
          }
         },
         "colorscale": [
          [
           0,
           "#440154"
          ],
          [
           0.1111111111111111,
           "#482878"
          ],
          [
           0.2222222222222222,
           "#3e4989"
          ],
          [
           0.3333333333333333,
           "#31688e"
          ],
          [
           0.4444444444444444,
           "#26828e"
          ],
          [
           0.5555555555555556,
           "#1f9e89"
          ],
          [
           0.6666666666666666,
           "#35b779"
          ],
          [
           0.7777777777777778,
           "#6ece58"
          ],
          [
           0.8888888888888888,
           "#b5de2b"
          ],
          [
           1,
           "#fde725"
          ]
         ]
        },
        "height": 300,
        "legend": {
         "tracegroupgap": 0
        },
        "template": {
         "data": {
          "bar": [
           {
            "error_x": {
             "color": "#2a3f5f"
            },
            "error_y": {
             "color": "#2a3f5f"
            },
            "marker": {
             "line": {
              "color": "#E5ECF6",
              "width": 0.5
             },
             "pattern": {
              "fillmode": "overlay",
              "size": 10,
              "solidity": 0.2
             }
            },
            "type": "bar"
           }
          ],
          "barpolar": [
           {
            "marker": {
             "line": {
              "color": "#E5ECF6",
              "width": 0.5
             },
             "pattern": {
              "fillmode": "overlay",
              "size": 10,
              "solidity": 0.2
             }
            },
            "type": "barpolar"
           }
          ],
          "carpet": [
           {
            "aaxis": {
             "endlinecolor": "#2a3f5f",
             "gridcolor": "white",
             "linecolor": "white",
             "minorgridcolor": "white",
             "startlinecolor": "#2a3f5f"
            },
            "baxis": {
             "endlinecolor": "#2a3f5f",
             "gridcolor": "white",
             "linecolor": "white",
             "minorgridcolor": "white",
             "startlinecolor": "#2a3f5f"
            },
            "type": "carpet"
           }
          ],
          "choropleth": [
           {
            "colorbar": {
             "outlinewidth": 0,
             "ticks": ""
            },
            "type": "choropleth"
           }
          ],
          "contour": [
           {
            "colorbar": {
             "outlinewidth": 0,
             "ticks": ""
            },
            "colorscale": [
             [
              0,
              "#0d0887"
             ],
             [
              0.1111111111111111,
              "#46039f"
             ],
             [
              0.2222222222222222,
              "#7201a8"
             ],
             [
              0.3333333333333333,
              "#9c179e"
             ],
             [
              0.4444444444444444,
              "#bd3786"
             ],
             [
              0.5555555555555556,
              "#d8576b"
             ],
             [
              0.6666666666666666,
              "#ed7953"
             ],
             [
              0.7777777777777778,
              "#fb9f3a"
             ],
             [
              0.8888888888888888,
              "#fdca26"
             ],
             [
              1,
              "#f0f921"
             ]
            ],
            "type": "contour"
           }
          ],
          "contourcarpet": [
           {
            "colorbar": {
             "outlinewidth": 0,
             "ticks": ""
            },
            "type": "contourcarpet"
           }
          ],
          "heatmap": [
           {
            "colorbar": {
             "outlinewidth": 0,
             "ticks": ""
            },
            "colorscale": [
             [
              0,
              "#0d0887"
             ],
             [
              0.1111111111111111,
              "#46039f"
             ],
             [
              0.2222222222222222,
              "#7201a8"
             ],
             [
              0.3333333333333333,
              "#9c179e"
             ],
             [
              0.4444444444444444,
              "#bd3786"
             ],
             [
              0.5555555555555556,
              "#d8576b"
             ],
             [
              0.6666666666666666,
              "#ed7953"
             ],
             [
              0.7777777777777778,
              "#fb9f3a"
             ],
             [
              0.8888888888888888,
              "#fdca26"
             ],
             [
              1,
              "#f0f921"
             ]
            ],
            "type": "heatmap"
           }
          ],
          "heatmapgl": [
           {
            "colorbar": {
             "outlinewidth": 0,
             "ticks": ""
            },
            "colorscale": [
             [
              0,
              "#0d0887"
             ],
             [
              0.1111111111111111,
              "#46039f"
             ],
             [
              0.2222222222222222,
              "#7201a8"
             ],
             [
              0.3333333333333333,
              "#9c179e"
             ],
             [
              0.4444444444444444,
              "#bd3786"
             ],
             [
              0.5555555555555556,
              "#d8576b"
             ],
             [
              0.6666666666666666,
              "#ed7953"
             ],
             [
              0.7777777777777778,
              "#fb9f3a"
             ],
             [
              0.8888888888888888,
              "#fdca26"
             ],
             [
              1,
              "#f0f921"
             ]
            ],
            "type": "heatmapgl"
           }
          ],
          "histogram": [
           {
            "marker": {
             "pattern": {
              "fillmode": "overlay",
              "size": 10,
              "solidity": 0.2
             }
            },
            "type": "histogram"
           }
          ],
          "histogram2d": [
           {
            "colorbar": {
             "outlinewidth": 0,
             "ticks": ""
            },
            "colorscale": [
             [
              0,
              "#0d0887"
             ],
             [
              0.1111111111111111,
              "#46039f"
             ],
             [
              0.2222222222222222,
              "#7201a8"
             ],
             [
              0.3333333333333333,
              "#9c179e"
             ],
             [
              0.4444444444444444,
              "#bd3786"
             ],
             [
              0.5555555555555556,
              "#d8576b"
             ],
             [
              0.6666666666666666,
              "#ed7953"
             ],
             [
              0.7777777777777778,
              "#fb9f3a"
             ],
             [
              0.8888888888888888,
              "#fdca26"
             ],
             [
              1,
              "#f0f921"
             ]
            ],
            "type": "histogram2d"
           }
          ],
          "histogram2dcontour": [
           {
            "colorbar": {
             "outlinewidth": 0,
             "ticks": ""
            },
            "colorscale": [
             [
              0,
              "#0d0887"
             ],
             [
              0.1111111111111111,
              "#46039f"
             ],
             [
              0.2222222222222222,
              "#7201a8"
             ],
             [
              0.3333333333333333,
              "#9c179e"
             ],
             [
              0.4444444444444444,
              "#bd3786"
             ],
             [
              0.5555555555555556,
              "#d8576b"
             ],
             [
              0.6666666666666666,
              "#ed7953"
             ],
             [
              0.7777777777777778,
              "#fb9f3a"
             ],
             [
              0.8888888888888888,
              "#fdca26"
             ],
             [
              1,
              "#f0f921"
             ]
            ],
            "type": "histogram2dcontour"
           }
          ],
          "mesh3d": [
           {
            "colorbar": {
             "outlinewidth": 0,
             "ticks": ""
            },
            "type": "mesh3d"
           }
          ],
          "parcoords": [
           {
            "line": {
             "colorbar": {
              "outlinewidth": 0,
              "ticks": ""
             }
            },
            "type": "parcoords"
           }
          ],
          "pie": [
           {
            "automargin": true,
            "type": "pie"
           }
          ],
          "scatter": [
           {
            "fillpattern": {
             "fillmode": "overlay",
             "size": 10,
             "solidity": 0.2
            },
            "type": "scatter"
           }
          ],
          "scatter3d": [
           {
            "line": {
             "colorbar": {
              "outlinewidth": 0,
              "ticks": ""
             }
            },
            "marker": {
             "colorbar": {
              "outlinewidth": 0,
              "ticks": ""
             }
            },
            "type": "scatter3d"
           }
          ],
          "scattercarpet": [
           {
            "marker": {
             "colorbar": {
              "outlinewidth": 0,
              "ticks": ""
             }
            },
            "type": "scattercarpet"
           }
          ],
          "scattergeo": [
           {
            "marker": {
             "colorbar": {
              "outlinewidth": 0,
              "ticks": ""
             }
            },
            "type": "scattergeo"
           }
          ],
          "scattergl": [
           {
            "marker": {
             "colorbar": {
              "outlinewidth": 0,
              "ticks": ""
             }
            },
            "type": "scattergl"
           }
          ],
          "scattermapbox": [
           {
            "marker": {
             "colorbar": {
              "outlinewidth": 0,
              "ticks": ""
             }
            },
            "type": "scattermapbox"
           }
          ],
          "scatterpolar": [
           {
            "marker": {
             "colorbar": {
              "outlinewidth": 0,
              "ticks": ""
             }
            },
            "type": "scatterpolar"
           }
          ],
          "scatterpolargl": [
           {
            "marker": {
             "colorbar": {
              "outlinewidth": 0,
              "ticks": ""
             }
            },
            "type": "scatterpolargl"
           }
          ],
          "scatterternary": [
           {
            "marker": {
             "colorbar": {
              "outlinewidth": 0,
              "ticks": ""
             }
            },
            "type": "scatterternary"
           }
          ],
          "surface": [
           {
            "colorbar": {
             "outlinewidth": 0,
             "ticks": ""
            },
            "colorscale": [
             [
              0,
              "#0d0887"
             ],
             [
              0.1111111111111111,
              "#46039f"
             ],
             [
              0.2222222222222222,
              "#7201a8"
             ],
             [
              0.3333333333333333,
              "#9c179e"
             ],
             [
              0.4444444444444444,
              "#bd3786"
             ],
             [
              0.5555555555555556,
              "#d8576b"
             ],
             [
              0.6666666666666666,
              "#ed7953"
             ],
             [
              0.7777777777777778,
              "#fb9f3a"
             ],
             [
              0.8888888888888888,
              "#fdca26"
             ],
             [
              1,
              "#f0f921"
             ]
            ],
            "type": "surface"
           }
          ],
          "table": [
           {
            "cells": {
             "fill": {
              "color": "#EBF0F8"
             },
             "line": {
              "color": "white"
             }
            },
            "header": {
             "fill": {
              "color": "#C8D4E3"
             },
             "line": {
              "color": "white"
             }
            },
            "type": "table"
           }
          ]
         },
         "layout": {
          "annotationdefaults": {
           "arrowcolor": "#2a3f5f",
           "arrowhead": 0,
           "arrowwidth": 1
          },
          "autotypenumbers": "strict",
          "coloraxis": {
           "colorbar": {
            "outlinewidth": 0,
            "ticks": ""
           }
          },
          "colorscale": {
           "diverging": [
            [
             0,
             "#8e0152"
            ],
            [
             0.1,
             "#c51b7d"
            ],
            [
             0.2,
             "#de77ae"
            ],
            [
             0.3,
             "#f1b6da"
            ],
            [
             0.4,
             "#fde0ef"
            ],
            [
             0.5,
             "#f7f7f7"
            ],
            [
             0.6,
             "#e6f5d0"
            ],
            [
             0.7,
             "#b8e186"
            ],
            [
             0.8,
             "#7fbc41"
            ],
            [
             0.9,
             "#4d9221"
            ],
            [
             1,
             "#276419"
            ]
           ],
           "sequential": [
            [
             0,
             "#0d0887"
            ],
            [
             0.1111111111111111,
             "#46039f"
            ],
            [
             0.2222222222222222,
             "#7201a8"
            ],
            [
             0.3333333333333333,
             "#9c179e"
            ],
            [
             0.4444444444444444,
             "#bd3786"
            ],
            [
             0.5555555555555556,
             "#d8576b"
            ],
            [
             0.6666666666666666,
             "#ed7953"
            ],
            [
             0.7777777777777778,
             "#fb9f3a"
            ],
            [
             0.8888888888888888,
             "#fdca26"
            ],
            [
             1,
             "#f0f921"
            ]
           ],
           "sequentialminus": [
            [
             0,
             "#0d0887"
            ],
            [
             0.1111111111111111,
             "#46039f"
            ],
            [
             0.2222222222222222,
             "#7201a8"
            ],
            [
             0.3333333333333333,
             "#9c179e"
            ],
            [
             0.4444444444444444,
             "#bd3786"
            ],
            [
             0.5555555555555556,
             "#d8576b"
            ],
            [
             0.6666666666666666,
             "#ed7953"
            ],
            [
             0.7777777777777778,
             "#fb9f3a"
            ],
            [
             0.8888888888888888,
             "#fdca26"
            ],
            [
             1,
             "#f0f921"
            ]
           ]
          },
          "colorway": [
           "#636efa",
           "#EF553B",
           "#00cc96",
           "#ab63fa",
           "#FFA15A",
           "#19d3f3",
           "#FF6692",
           "#B6E880",
           "#FF97FF",
           "#FECB52"
          ],
          "font": {
           "color": "#2a3f5f"
          },
          "geo": {
           "bgcolor": "white",
           "lakecolor": "white",
           "landcolor": "#E5ECF6",
           "showlakes": true,
           "showland": true,
           "subunitcolor": "white"
          },
          "hoverlabel": {
           "align": "left"
          },
          "hovermode": "closest",
          "mapbox": {
           "style": "light"
          },
          "paper_bgcolor": "white",
          "plot_bgcolor": "#E5ECF6",
          "polar": {
           "angularaxis": {
            "gridcolor": "white",
            "linecolor": "white",
            "ticks": ""
           },
           "bgcolor": "#E5ECF6",
           "radialaxis": {
            "gridcolor": "white",
            "linecolor": "white",
            "ticks": ""
           }
          },
          "scene": {
           "xaxis": {
            "backgroundcolor": "#E5ECF6",
            "gridcolor": "white",
            "gridwidth": 2,
            "linecolor": "white",
            "showbackground": true,
            "ticks": "",
            "zerolinecolor": "white"
           },
           "yaxis": {
            "backgroundcolor": "#E5ECF6",
            "gridcolor": "white",
            "gridwidth": 2,
            "linecolor": "white",
            "showbackground": true,
            "ticks": "",
            "zerolinecolor": "white"
           },
           "zaxis": {
            "backgroundcolor": "#E5ECF6",
            "gridcolor": "white",
            "gridwidth": 2,
            "linecolor": "white",
            "showbackground": true,
            "ticks": "",
            "zerolinecolor": "white"
           }
          },
          "shapedefaults": {
           "line": {
            "color": "#2a3f5f"
           }
          },
          "ternary": {
           "aaxis": {
            "gridcolor": "white",
            "linecolor": "white",
            "ticks": ""
           },
           "baxis": {
            "gridcolor": "white",
            "linecolor": "white",
            "ticks": ""
           },
           "bgcolor": "#E5ECF6",
           "caxis": {
            "gridcolor": "white",
            "linecolor": "white",
            "ticks": ""
           }
          },
          "title": {
           "x": 0.05
          },
          "xaxis": {
           "automargin": true,
           "gridcolor": "white",
           "linecolor": "white",
           "ticks": "",
           "title": {
            "standoff": 15
           },
           "zerolinecolor": "white",
           "zerolinewidth": 2
          },
          "yaxis": {
           "automargin": true,
           "gridcolor": "white",
           "linecolor": "white",
           "ticks": "",
           "title": {
            "standoff": 15
           },
           "zerolinecolor": "white",
           "zerolinewidth": 2
          }
         }
        },
        "title": {
         "text": "Feature Importance in Risk Prediction Model"
        },
        "xaxis": {
         "anchor": "y",
         "domain": [
          0,
          1
         ],
         "title": {
          "text": "Importance"
         }
        },
        "yaxis": {
         "anchor": "x",
         "domain": [
          0,
          1
         ],
         "title": {
          "text": "Feature"
         }
        }
       }
      }
     },
     "metadata": {},
     "output_type": "display_data"
    },
    {
     "data": {
      "application/vnd.jupyter.widget-view+json": {
       "model_id": "44f3dc60cca445d4a5598795c2d6a30f",
       "version_major": 2,
       "version_minor": 0
      },
      "text/plain": [
       "VBox(children=(HTML(value='<p><b>Enter Investment Parameters:</b></p>'), HBox(children=(VBox(children=(FloatSl…"
      ]
     },
     "metadata": {},
     "output_type": "display_data"
    }
   ],
   "source": [
    "# Create synthetic data for demonstration\n",
    "np.random.seed(42)\n",
    "n_samples = 1000\n",
    "\n",
    "# Generate synthetic features\n",
    "market_volatility = np.random.uniform(5, 30, n_samples)  # VIX index-like\n",
    "price_to_earnings = np.random.uniform(10, 40, n_samples)  # P/E ratio\n",
    "debt_to_equity = np.random.uniform(0.1, 2.0, n_samples)  # D/E ratio\n",
    "dividend_yield = np.random.uniform(0, 7, n_samples)  # Dividend yield %\n",
    "market_cap = np.random.uniform(1, 100, n_samples)  # In billions\n",
    "interest_rate_environment = np.random.uniform(0, 8, n_samples)  # Interest rate %\n",
    "\n",
    "# Create risk function (simplified for demonstration)\n",
    "risk_score = (\n",
    "    0.3 * market_volatility\n",
    "    + 0.2 * price_to_earnings\n",
    "    + 0.25 * debt_to_equity\n",
    "    - 0.15 * dividend_yield\n",
    "    - 0.1 * np.log(market_cap)\n",
    "    + 0.2 * interest_rate_environment\n",
    ")\n",
    "\n",
    "# Normalize risk score\n",
    "risk_score = (risk_score - np.min(risk_score)) / (np.max(risk_score) - np.min(risk_score)) * 100\n",
    "\n",
    "# Create risk categories\n",
    "risk_category = [\n",
    "    \"Low\" if score < 33 else \"Medium\" if score < 66 else \"High\" for score in risk_score\n",
    "]\n",
    "\n",
    "# Create DataFrame\n",
    "investment_data = pd.DataFrame(\n",
    "    {\n",
    "        \"Market_Volatility\": market_volatility,\n",
    "        \"Price_to_Earnings\": price_to_earnings,\n",
    "        \"Debt_to_Equity\": debt_to_equity,\n",
    "        \"Dividend_Yield\": dividend_yield,\n",
    "        \"Market_Cap\": market_cap,\n",
    "        \"Interest_Rate\": interest_rate_environment,\n",
    "        \"Risk_Score\": risk_score,\n",
    "        \"Risk_Category\": risk_category,\n",
    "    }\n",
    ")\n",
    "\n",
    "# Train a Random Forest Classifier\n",
    "X = investment_data.drop([\"Risk_Score\", \"Risk_Category\"], axis=1)\n",
    "y = investment_data[\"Risk_Category\"]\n",
    "\n",
    "X_train, X_test, y_train, y_test = train_test_split(X, y, test_size=0.3, random_state=42)\n",
    "model = RandomForestClassifier(n_estimators=100, random_state=42)\n",
    "model.fit(X_train, y_train)\n",
    "\n",
    "# Evaluate the model\n",
    "y_pred = model.predict(X_test)\n",
    "accuracy = accuracy_score(y_test, y_pred)\n",
    "\n",
    "# Feature importance\n",
    "feature_importance = pd.DataFrame(\n",
    "    {\"Feature\": X.columns, \"Importance\": model.feature_importances_}\n",
    ").sort_values(\"Importance\", ascending=False)\n",
    "\n",
    "# Create widgets for user input\n",
    "volatility_slider = widgets.FloatSlider(\n",
    "    value=15,\n",
    "    min=5,\n",
    "    max=30,\n",
    "    step=0.5,\n",
    "    description=\"Market Volatility:\",\n",
    "    style={\"description_width\": \"initial\"},\n",
    ")\n",
    "\n",
    "pe_slider = widgets.FloatSlider(\n",
    "    value=20,\n",
    "    min=10,\n",
    "    max=40,\n",
    "    step=0.5,\n",
    "    description=\"Price/Earnings:\",\n",
    "    style={\"description_width\": \"initial\"},\n",
    ")\n",
    "\n",
    "de_slider = widgets.FloatSlider(\n",
    "    value=0.8,\n",
    "    min=0.1,\n",
    "    max=2.0,\n",
    "    step=0.05,\n",
    "    description=\"Debt/Equity:\",\n",
    "    style={\"description_width\": \"initial\"},\n",
    ")\n",
    "\n",
    "dividend_slider = widgets.FloatSlider(\n",
    "    value=2.0,\n",
    "    min=0,\n",
    "    max=7,\n",
    "    step=0.1,\n",
    "    description=\"Dividend Yield (%):\",\n",
    "    style={\"description_width\": \"initial\"},\n",
    ")\n",
    "\n",
    "cap_slider = widgets.FloatSlider(\n",
    "    value=20,\n",
    "    min=1,\n",
    "    max=100,\n",
    "    step=1,\n",
    "    description=\"Market Cap ($B):\",\n",
    "    style={\"description_width\": \"initial\"},\n",
    ")\n",
    "\n",
    "interest_slider = widgets.FloatSlider(\n",
    "    value=3.0,\n",
    "    min=0,\n",
    "    max=8,\n",
    "    step=0.25,\n",
    "    description=\"Interest Rate (%):\",\n",
    "    style={\"description_width\": \"initial\"},\n",
    ")\n",
    "\n",
    "assess_button = widgets.Button(\n",
    "    description=\"Assess Risk\", button_style=\"primary\", layout=widgets.Layout(width=\"200px\")\n",
    ")\n",
    "\n",
    "risk_output = widgets.Output()\n",
    "\n",
    "\n",
    "def assess_risk(b):\n",
    "    with risk_output:\n",
    "        clear_output()\n",
    "\n",
    "        # Get input values\n",
    "        input_features = pd.DataFrame(\n",
    "            {\n",
    "                \"Market_Volatility\": [volatility_slider.value],\n",
    "                \"Price_to_Earnings\": [pe_slider.value],\n",
    "                \"Debt_to_Equity\": [de_slider.value],\n",
    "                \"Dividend_Yield\": [dividend_slider.value],\n",
    "                \"Market_Cap\": [cap_slider.value],\n",
    "                \"Interest_Rate\": [interest_slider.value],\n",
    "            }\n",
    "        )\n",
    "\n",
    "        # Calculate risk score using the same formula\n",
    "        risk_value = (\n",
    "            0.3 * input_features[\"Market_Volatility\"]\n",
    "            + 0.2 * input_features[\"Price_to_Earnings\"]\n",
    "            + 0.25 * input_features[\"Debt_to_Equity\"]\n",
    "            - 0.15 * input_features[\"Dividend_Yield\"]\n",
    "            - 0.1 * np.log(input_features[\"Market_Cap\"])\n",
    "            + 0.2 * input_features[\"Interest_Rate\"]\n",
    "        )\n",
    "\n",
    "        # Normalize using the same range as training data\n",
    "        risk_min = np.min(risk_score)\n",
    "        risk_max = np.max(risk_score)\n",
    "        normalized_risk = (risk_value - risk_min) / (risk_max - risk_min) * 100\n",
    "        normalized_risk = normalized_risk.values[0]\n",
    "\n",
    "        # Use model to predict risk category\n",
    "        predicted_category = model.predict(input_features)[0]\n",
    "\n",
    "        # Get prediction probabilities\n",
    "        prob = model.predict_proba(input_features)[0]\n",
    "        prob_dict = {cat: prob[i] for i, cat in enumerate(model.classes_)}\n",
    "\n",
    "        # Display results\n",
    "        display(HTML(f\"<h3>Investment Risk Assessment Results</h3>\"))\n",
    "        display(\n",
    "            HTML(\n",
    "                f\"<p><b>Predicted Risk Category:</b> <span style='color: {'red' if predicted_category == 'High' else 'orange' if predicted_category == 'Medium' else 'green'}'>{predicted_category}</span></p>\"\n",
    "            )\n",
    "        )\n",
    "        display(HTML(f\"<p><b>Calculated Risk Score:</b> {normalized_risk:.2f}/100</p>\"))\n",
    "\n",
    "        # Display probability breakdown\n",
    "        display(HTML(\"<p><b>Probability Breakdown:</b></p>\"))\n",
    "\n",
    "        # Create probability bar chart\n",
    "        fig = go.Figure()\n",
    "        categories = list(prob_dict.keys())\n",
    "        probabilities = list(prob_dict.values())\n",
    "        colors = [\n",
    "            \"green\" if cat == \"Low\" else \"orange\" if cat == \"Medium\" else \"red\"\n",
    "            for cat in categories\n",
    "        ]\n",
    "        fig.add_trace(\n",
    "            go.Bar(\n",
    "                x=categories,\n",
    "                y=probabilities,\n",
    "                marker_color=colors,\n",
    "                text=[f\"{p*100:.1f}%\" for p in probabilities],\n",
    "                textposition=\"auto\",\n",
    "            )\n",
    "        )\n",
    "        fig.update_layout(\n",
    "            title=\"Risk Category Probabilities\",\n",
    "            yaxis=dict(title=\"Probability\", range=[0, 1]),\n",
    "            height=300,\n",
    "        )\n",
    "        fig.show()\n",
    "\n",
    "        # Create gauge chart for risk score\n",
    "        gauge_fig = go.Figure()\n",
    "        gauge_fig.add_trace(\n",
    "            go.Indicator(\n",
    "                mode=\"gauge+number\",\n",
    "                value=normalized_risk,\n",
    "                title={\"text\": \"Risk Score\"},\n",
    "                gauge={\n",
    "                    \"axis\": {\"range\": [0, 100]},\n",
    "                    \"bar\": {\"color\": \"rgba(0,0,0,0)\"},  # Make the bar transparent\n",
    "                    \"steps\": [\n",
    "                        {\"range\": [0, 33], \"color\": \"rgba(0, 200, 0, 0.4)\"},\n",
    "                        {\"range\": [33, 66], \"color\": \"rgba(255, 165, 0, 0.4)\"},\n",
    "                        {\"range\": [66, 100], \"color\": \"rgba(255, 0, 0, 0.4)\"},\n",
    "                    ],\n",
    "                    \"threshold\": {\n",
    "                        \"line\": {\"color\": \"black\", \"width\": 3},\n",
    "                        \"thickness\": 0.75,\n",
    "                        \"value\": normalized_risk,\n",
    "                    },\n",
    "                },\n",
    "            )\n",
    "        )\n",
    "        gauge_fig.update_layout(height=250)\n",
    "        gauge_fig.show()\n",
    "\n",
    "        # Feature importance for this prediction\n",
    "        # Calculate SHAP values or simpler version for this demo\n",
    "        feature_impact = {\n",
    "            \"Market_Volatility\": 0.3 * input_features[\"Market_Volatility\"].values[0],\n",
    "            \"Price_to_Earnings\": 0.2 * input_features[\"Price_to_Earnings\"].values[0],\n",
    "            \"Debt_to_Equity\": 0.25 * input_features[\"Debt_to_Equity\"].values[0],\n",
    "            \"Dividend_Yield\": -0.15 * input_features[\"Dividend_Yield\"].values[0],\n",
    "            \"Market_Cap\": -0.1 * np.log(input_features[\"Market_Cap\"].values[0]),\n",
    "            \"Interest_Rate\": 0.2 * input_features[\"Interest_Rate\"].values[0],\n",
    "        }\n",
    "\n",
    "        # Normalize impact values\n",
    "        total_impact = sum(abs(v) for v in feature_impact.values())\n",
    "        normalized_impact = {k: abs(v) / total_impact for k, v in feature_impact.items()}\n",
    "\n",
    "        # Sort by absolute impact\n",
    "        sorted_impact = sorted(normalized_impact.items(), key=lambda x: x[1], reverse=True)\n",
    "\n",
    "        display(HTML(\"<p><b>Top Factors Influencing Risk:</b></p>\"))\n",
    "        fig_impact = go.Figure()\n",
    "        fig_impact.add_trace(\n",
    "            go.Bar(\n",
    "                x=[f[0] for f in sorted_impact],\n",
    "                y=[f[1] for f in sorted_impact],\n",
    "                marker_color=\"steelblue\",\n",
    "                text=[f\"{f[1]*100:.1f}%\" for f in sorted_impact],\n",
    "                textposition=\"auto\",\n",
    "            )\n",
    "        )\n",
    "        fig_impact.update_layout(title=\"Feature Impact on Risk Assessment\", height=300)\n",
    "        fig_impact.show()\n",
    "\n",
    "        # Investment recommendation based on risk\n",
    "        if predicted_category == \"Low\":\n",
    "            recommendation = \"This investment appears to have a low risk profile. It may be suitable for conservative investors or as part of a diversified portfolio.\"\n",
    "        elif predicted_category == \"Medium\":\n",
    "            recommendation = \"This investment has a moderate risk profile. Consider balancing it with lower-risk assets and ensure it aligns with your overall risk tolerance.\"\n",
    "        else:  # High\n",
    "            recommendation = \"This investment has a high risk profile. It may be appropriate for investors with high risk tolerance and long time horizons. Consider limiting exposure as part of a diversified portfolio.\"\n",
    "\n",
    "        display(HTML(f\"<p><b>Investment Recommendation:</b> {recommendation}</p>\"))\n",
    "\n",
    "\n",
    "assess_button.on_click(assess_risk)\n",
    "\n",
    "# Display model performance\n",
    "display(widgets.HTML(f\"<h2>ML-Based Investment Risk Assessment</h2>\"))\n",
    "display(widgets.HTML(f\"<p><i>Model accuracy on test data: {accuracy:.2%}</i></p>\"))\n",
    "display(widgets.HTML(\"<p>Adjust the parameters below to assess investment risk:</p>\"))\n",
    "\n",
    "# Create feature importance visualization\n",
    "fi_fig = px.bar(\n",
    "    feature_importance,\n",
    "    x=\"Importance\",\n",
    "    y=\"Feature\",\n",
    "    orientation=\"h\",\n",
    "    title=\"Feature Importance in Risk Prediction Model\",\n",
    "    color=\"Importance\",\n",
    "    color_continuous_scale=\"Viridis\",\n",
    ")\n",
    "fi_fig.update_layout(height=300)\n",
    "fi_fig.show()\n",
    "\n",
    "# Display widgets\n",
    "display(\n",
    "    widgets.VBox(\n",
    "        [\n",
    "            widgets.HTML(\"<p><b>Enter Investment Parameters:</b></p>\"),\n",
    "            widgets.HBox(\n",
    "                [\n",
    "                    widgets.VBox([volatility_slider, pe_slider, de_slider]),\n",
    "                    widgets.VBox([dividend_slider, cap_slider, interest_slider]),\n",
    "                ]\n",
    "            ),\n",
    "            assess_button,\n",
    "            risk_output,\n",
    "        ]\n",
    "    )\n",
    ")\n",
    "\n",
    "# Initial assessment\n",
    "assess_risk(None)"
   ]
  },
  {
   "cell_type": "markdown",
   "metadata": {},
   "source": [
    "## Key Takeaways\n",
    "\n",
    "1. **AI-powered financial advising** provides personalized recommendations based on individual circumstances and knowledge levels.\n",
    "\n",
    "2. **Machine learning models** can assess investment risk by analyzing multiple factors simultaneously.\n",
    "\n",
    "3. **Natural language processing** enables sentiment analysis of financial news and market information.\n",
    "\n",
    "4. **Personalized explanations** at different knowledge levels make complex financial concepts more accessible.\n",
    "\n",
    "5. **Interactive visualizations** combined with AI insights help users make more informed financial decisions.\n",
    "\n",
    "6. **Automated risk assessment** tools can quickly evaluate investments based on key metrics and provide actionable recommendations.\n"
   ]
  }
 ],
 "metadata": {
  "kernelspec": {
   "display_name": "pyt12",
   "language": "python",
   "name": "python3"
  },
  "language_info": {
   "codemirror_mode": {
    "name": "ipython",
    "version": 3
   },
   "file_extension": ".py",
   "mimetype": "text/x-python",
   "name": "python",
   "nbconvert_exporter": "python",
   "pygments_lexer": "ipython3",
   "version": "3.12.2"
  }
 },
 "nbformat": 4,
 "nbformat_minor": 2
}
