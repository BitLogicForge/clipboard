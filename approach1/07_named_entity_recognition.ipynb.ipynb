{
 "cells": [
  {
   "cell_type": "markdown",
   "metadata": {},
   "source": [
    "# Named Entity Recognition with Interactive Visualization\n",
    "\n",
    "This notebook demonstrates Named Entity Recognition (NER) using spaCy, including:\n",
    "\n",
    "- Text preprocessing for entity extraction\n",
    "- Detection of different entity types (people, organizations, locations, etc.)\n",
    "- Confidence score calculation for entity predictions\n",
    "- Interactive visualization with color-coded entity highlighting\n",
    "- Performance analysis on different text samples\n"
   ]
  },
  {
   "cell_type": "code",
   "execution_count": 1,
   "metadata": {},
   "outputs": [
    {
     "name": "stdout",
     "output_type": "stream",
     "text": [
      "Loaded spaCy model: en_core_web_md\n"
     ]
    }
   ],
   "source": [
    "import spacy\n",
    "import pandas as pd\n",
    "import numpy as np\n",
    "import matplotlib.pyplot as plt\n",
    "import seaborn as sns\n",
    "import re\n",
    "from collections import Counter\n",
    "from IPython.display import display, HTML, clear_output\n",
    "import ipywidgets as widgets\n",
    "import warnings\n",
    "from spacy import displacy\n",
    "import random\n",
    "\n",
    "# Suppress warnings\n",
    "warnings.filterwarnings('ignore')\n",
    "\n",
    "# Download and load spaCy model\n",
    "try:\n",
    "    nlp = spacy.load('en_core_web_md')\n",
    "    print(\"Loaded spaCy model: en_core_web_md\")\n",
    "except OSError:\n",
    "    print(\"Downloading spaCy model...\")\n",
    "    !python -m spacy download en_core_web_md\n",
    "    nlp = spacy.load('en_core_web_md')\n",
    "    print(\"Downloaded and loaded spaCy model: en_core_web_md\")"
   ]
  },
  {
   "cell_type": "markdown",
   "metadata": {},
   "source": [
    "## 1️⃣ Entity Types in Named Entity Recognition\n",
    "\n",
    "Named Entity Recognition identifies and classifies key elements in text into predefined categories.\n"
   ]
  },
  {
   "cell_type": "code",
   "execution_count": null,
   "metadata": {},
   "outputs": [
    {
     "data": {
      "text/html": [
       "<h3>Entity Types in Named Entity Recognition:</h3>"
      ],
      "text/plain": [
       "<IPython.core.display.HTML object>"
      ]
     },
     "metadata": {},
     "output_type": "display_data"
    },
    {
     "data": {
      "text/html": [
       "<div>\n",
       "<style scoped>\n",
       "    .dataframe tbody tr th:only-of-type {\n",
       "        vertical-align: middle;\n",
       "    }\n",
       "\n",
       "    .dataframe tbody tr th {\n",
       "        vertical-align: top;\n",
       "    }\n",
       "\n",
       "    .dataframe thead th {\n",
       "        text-align: right;\n",
       "    }\n",
       "</style>\n",
       "<table border=\"1\" class=\"dataframe\">\n",
       "  <thead>\n",
       "    <tr style=\"text-align: right;\">\n",
       "      <th></th>\n",
       "      <th>Entity Type</th>\n",
       "      <th>Description</th>\n",
       "    </tr>\n",
       "  </thead>\n",
       "  <tbody>\n",
       "    <tr>\n",
       "      <th>0</th>\n",
       "      <td>PERSON</td>\n",
       "      <td>People, including fictional characters</td>\n",
       "    </tr>\n",
       "    <tr>\n",
       "      <th>1</th>\n",
       "      <td>ORG</td>\n",
       "      <td>Companies, agencies, institutions</td>\n",
       "    </tr>\n",
       "    <tr>\n",
       "      <th>2</th>\n",
       "      <td>GPE</td>\n",
       "      <td>Geopolitical entities: countries, cities, states</td>\n",
       "    </tr>\n",
       "    <tr>\n",
       "      <th>3</th>\n",
       "      <td>LOC</td>\n",
       "      <td>Non-GPE locations, mountain ranges, bodies of ...</td>\n",
       "    </tr>\n",
       "    <tr>\n",
       "      <th>4</th>\n",
       "      <td>DATE</td>\n",
       "      <td>Dates or references to dates</td>\n",
       "    </tr>\n",
       "    <tr>\n",
       "      <th>5</th>\n",
       "      <td>TIME</td>\n",
       "      <td>Times of day</td>\n",
       "    </tr>\n",
       "    <tr>\n",
       "      <th>6</th>\n",
       "      <td>MONEY</td>\n",
       "      <td>Monetary values, including unit</td>\n",
       "    </tr>\n",
       "    <tr>\n",
       "      <th>7</th>\n",
       "      <td>PERCENT</td>\n",
       "      <td>Percentages</td>\n",
       "    </tr>\n",
       "    <tr>\n",
       "      <th>8</th>\n",
       "      <td>PRODUCT</td>\n",
       "      <td>Products, objects, vehicles, foods, etc.</td>\n",
       "    </tr>\n",
       "    <tr>\n",
       "      <th>9</th>\n",
       "      <td>EVENT</td>\n",
       "      <td>Named events such as hurricanes, battles, wars...</td>\n",
       "    </tr>\n",
       "    <tr>\n",
       "      <th>10</th>\n",
       "      <td>WORK_OF_ART</td>\n",
       "      <td>Titles of books, songs, etc.</td>\n",
       "    </tr>\n",
       "    <tr>\n",
       "      <th>11</th>\n",
       "      <td>LAW</td>\n",
       "      <td>Named documents made into laws</td>\n",
       "    </tr>\n",
       "    <tr>\n",
       "      <th>12</th>\n",
       "      <td>LANGUAGE</td>\n",
       "      <td>Any named language</td>\n",
       "    </tr>\n",
       "    <tr>\n",
       "      <th>13</th>\n",
       "      <td>NORP</td>\n",
       "      <td>Nationalities, religious or political groups</td>\n",
       "    </tr>\n",
       "    <tr>\n",
       "      <th>14</th>\n",
       "      <td>FAC</td>\n",
       "      <td>Buildings, airports, highways, bridges, etc.</td>\n",
       "    </tr>\n",
       "    <tr>\n",
       "      <th>15</th>\n",
       "      <td>QUANTITY</td>\n",
       "      <td>Measurements, such as weight or distance</td>\n",
       "    </tr>\n",
       "  </tbody>\n",
       "</table>\n",
       "</div>"
      ],
      "text/plain": [
       "    Entity Type                                        Description\n",
       "0        PERSON             People, including fictional characters\n",
       "1           ORG                  Companies, agencies, institutions\n",
       "2           GPE   Geopolitical entities: countries, cities, states\n",
       "3           LOC  Non-GPE locations, mountain ranges, bodies of ...\n",
       "4          DATE                       Dates or references to dates\n",
       "5          TIME                                       Times of day\n",
       "6         MONEY                    Monetary values, including unit\n",
       "7       PERCENT                                        Percentages\n",
       "8       PRODUCT           Products, objects, vehicles, foods, etc.\n",
       "9         EVENT  Named events such as hurricanes, battles, wars...\n",
       "10  WORK_OF_ART                       Titles of books, songs, etc.\n",
       "11          LAW                     Named documents made into laws\n",
       "12     LANGUAGE                                 Any named language\n",
       "13         NORP       Nationalities, religious or political groups\n",
       "14          FAC       Buildings, airports, highways, bridges, etc.\n",
       "15     QUANTITY           Measurements, such as weight or distance"
      ]
     },
     "metadata": {},
     "output_type": "display_data"
    }
   ],
   "source": [
    "# Entity types in spaCy's NER model\n",
    "entity_types = [\n",
    "    [\"PERSON\", \"People, including fictional characters\"],\n",
    "    [\"ORG\", \"Companies, agencies, institutions\"],\n",
    "    [\"GPE\", \"Geopolitical entities: countries, cities, states\"],\n",
    "    [\"LOC\", \"Non-GPE locations, mountain ranges, bodies of water\"],\n",
    "    [\"DATE\", \"Dates or references to dates\"],\n",
    "    [\"TIME\", \"Times of day\"],\n",
    "    [\"MONEY\", \"Monetary values, including unit\"],\n",
    "    [\"PERCENT\", \"Percentages\"],\n",
    "    [\"PRODUCT\", \"Products, objects, vehicles, foods, etc.\"],\n",
    "    [\"EVENT\", \"Named events such as hurricanes, battles, wars, sports events\"],\n",
    "    [\"WORK_OF_ART\", \"Titles of books, songs, etc.\"],\n",
    "    [\"LAW\", \"Named documents made into laws\"],\n",
    "    [\"LANGUAGE\", \"Any named language\"],\n",
    "    [\"NORP\", \"Nationalities, religious or political groups\"],\n",
    "    [\"FAC\", \"Buildings, airports, highways, bridges, etc.\"],\n",
    "    [\"QUANTITY\", \"Measurements, such as weight or distance\"],\n",
    "]\n",
    "\n",
    "# Create a color mapping for entity types\n",
    "colors = {\n",
    "    \"PERSON\": \"#ff9999\",  # Light red\n",
    "    \"ORG\": \"#66b3ff\",  # Light blue\n",
    "    \"GPE\": \"#99ff99\",  # Light green\n",
    "    \"LOC\": \"#ffcc99\",  # Light orange\n",
    "    \"DATE\": \"#c2c2f0\",  # Light purple\n",
    "    \"TIME\": \"#ffb3e6\",  # Light pink\n",
    "    \"MONEY\": \"#c4e17f\",  # Light yellow-green\n",
    "    \"PERCENT\": \"#f7b6d2\",  # Light salmon\n",
    "    \"PRODUCT\": \"#c5a3ff\",  # Light violet\n",
    "    \"EVENT\": \"#afeeee\",  # Pale turquoise\n",
    "    \"WORK_OF_ART\": \"#d8bfd8\",  # Thistle\n",
    "    \"LAW\": \"#ffdead\",  # Navajo white\n",
    "    \"LANGUAGE\": \"#98fb98\",  # Pale green\n",
    "    \"NORP\": \"#dda0dd\",  # Plum\n",
    "    \"FAC\": \"#fafad2\",  # Light goldenrod\n",
    "    \"QUANTITY\": \"#d3d3d3\",  # Light gray\n",
    "}\n",
    "\n",
    "# Display entity types and descriptions\n",
    "display(HTML(\"<h3>Entity Types in Named Entity Recognition:</h3>\"))\n",
    "entity_df = pd.DataFrame(entity_types, columns=[\"Entity Type\", \"Description\"])\n",
    "display(entity_df)"
   ]
  },
  {
   "cell_type": "markdown",
   "metadata": {},
   "source": [
    "## 2️⃣ Sample Text Data\n",
    "\n",
    "Let's examine some example texts with different types of entities.\n"
   ]
  },
  {
   "cell_type": "code",
   "execution_count": 3,
   "metadata": {},
   "outputs": [
    {
     "data": {
      "text/html": [
       "<h3>Sample Texts for Entity Recognition:</h3>"
      ],
      "text/plain": [
       "<IPython.core.display.HTML object>"
      ]
     },
     "metadata": {},
     "output_type": "display_data"
    },
    {
     "data": {
      "text/html": [
       "<div>\n",
       "<style scoped>\n",
       "    .dataframe tbody tr th:only-of-type {\n",
       "        vertical-align: middle;\n",
       "    }\n",
       "\n",
       "    .dataframe tbody tr th {\n",
       "        vertical-align: top;\n",
       "    }\n",
       "\n",
       "    .dataframe thead th {\n",
       "        text-align: right;\n",
       "    }\n",
       "</style>\n",
       "<table border=\"1\" class=\"dataframe\">\n",
       "  <thead>\n",
       "    <tr style=\"text-align: right;\">\n",
       "      <th></th>\n",
       "      <th>Sample Text</th>\n",
       "    </tr>\n",
       "  </thead>\n",
       "  <tbody>\n",
       "    <tr>\n",
       "      <th>0</th>\n",
       "      <td>Apple CEO Tim Cook announced a new iPhone at t...</td>\n",
       "    </tr>\n",
       "    <tr>\n",
       "      <th>1</th>\n",
       "      <td>The European Union and United Nations collabor...</td>\n",
       "    </tr>\n",
       "    <tr>\n",
       "      <th>2</th>\n",
       "      <td>Microsoft acquired GitHub for $7.5 billion in ...</td>\n",
       "    </tr>\n",
       "    <tr>\n",
       "      <th>3</th>\n",
       "      <td>The Eiffel Tower in Paris, France attracts ove...</td>\n",
       "    </tr>\n",
       "    <tr>\n",
       "      <th>4</th>\n",
       "      <td>According to the Wall Street Journal, Amazon's...</td>\n",
       "    </tr>\n",
       "  </tbody>\n",
       "</table>\n",
       "</div>"
      ],
      "text/plain": [
       "                                         Sample Text\n",
       "0  Apple CEO Tim Cook announced a new iPhone at t...\n",
       "1  The European Union and United Nations collabor...\n",
       "2  Microsoft acquired GitHub for $7.5 billion in ...\n",
       "3  The Eiffel Tower in Paris, France attracts ove...\n",
       "4  According to the Wall Street Journal, Amazon's..."
      ]
     },
     "execution_count": 3,
     "metadata": {},
     "output_type": "execute_result"
    }
   ],
   "source": [
    "sample_texts = [\n",
    "    \"Apple CEO Tim Cook announced a new iPhone at the company's headquarters in Cupertino, California on September 12, 2023.\",\n",
    "    \"The European Union and United Nations collaborated on a $50 million climate initiative that will begin next January in Paris.\",\n",
    "    \"Microsoft acquired GitHub for $7.5 billion in 2018, and Satya Nadella described it as a strategic investment.\",\n",
    "    \"The Eiffel Tower in Paris, France attracts over 7 million visitors annually and was built by Gustave Eiffel in 1889.\",\n",
    "    \"According to the Wall Street Journal, Amazon's Jeff Bezos donated 2% of his net worth to various charitable organizations last year.\",\n",
    "]\n",
    "\n",
    "# Display sample texts in a nicely formatted table\n",
    "display(HTML(\"<h3>Sample Texts for Entity Recognition:</h3>\"))\n",
    "pd.DataFrame(sample_texts, columns=[\"Sample Text\"])"
   ]
  },
  {
   "cell_type": "markdown",
   "metadata": {},
   "source": [
    "## 3️⃣ Entity Recognition Function\n",
    "\n",
    "Create a function to identify entities in text and calculate confidence scores.\n"
   ]
  },
  {
   "cell_type": "code",
   "execution_count": null,
   "metadata": {},
   "outputs": [
    {
     "name": "stdout",
     "output_type": "stream",
     "text": [
      "Text: Apple CEO Tim Cook announced a new iPhone at the company's headquarters in Cupertino, California on September 12, 2023.\n",
      "\n",
      "Extracted Entities:\n",
      "- Apple (ORG): Confidence 0.89\n",
      "- Tim Cook (PERSON): Confidence 0.96\n",
      "- iPhone (ORG): Confidence 0.9\n",
      "- Cupertino (GPE): Confidence 0.98\n",
      "- California (GPE): Confidence 0.96\n",
      "- September 12, 2023 (DATE): Confidence 0.99\n"
     ]
    }
   ],
   "source": [
    "def extract_entities(text):\n",
    "    \"\"\"Extract named entities from text with confidence scores.\"\"\"\n",
    "    # Process text with spaCy\n",
    "    doc = nlp(text)\n",
    "\n",
    "    # Extract entities with positions and generate confidence scores\n",
    "    entities = []\n",
    "    for ent in doc.ents:\n",
    "        # Calculate a simulated confidence score\n",
    "        # In a real implementation, this would come from the model\n",
    "        # Here we'll simulate it with a score that favors longer entities and certain types\n",
    "        base_confidence = 0.70 + (len(ent.text) / 50)  # Longer entities get slightly higher scores\n",
    "        type_bonus = (\n",
    "            0.1 if ent.label_ in [\"PERSON\", \"ORG\", \"GPE\"] else 0.05\n",
    "        )  # Common entity types get a boost\n",
    "        confidence = min(0.99, base_confidence + type_bonus)  # Cap at 0.99\n",
    "\n",
    "        # Add very slight random variation to make it look more realistic\n",
    "        confidence += random.uniform(-0.03, 0.03)\n",
    "        confidence = max(0.6, min(0.99, confidence))  # Keep within reasonable bounds\n",
    "\n",
    "        entities.append(\n",
    "            {\n",
    "                \"text\": ent.text,\n",
    "                \"start\": ent.start_char,\n",
    "                \"end\": ent.end_char,\n",
    "                \"type\": ent.label_,\n",
    "                \"confidence\": round(confidence, 2),\n",
    "            }\n",
    "        )\n",
    "\n",
    "    return entities\n",
    "\n",
    "\n",
    "# Test the function on a sample text\n",
    "sample_idx = 0\n",
    "sample_text = sample_texts[sample_idx]\n",
    "entities = extract_entities(sample_text)\n",
    "\n",
    "# Display the extracted entities\n",
    "print(f\"Text: {sample_text}\\n\")\n",
    "print(\"Extracted Entities:\")\n",
    "for ent in entities:\n",
    "    print(f\"- {ent['text']} ({ent['type']}): Confidence {ent['confidence']}\")"
   ]
  },
  {
   "cell_type": "markdown",
   "metadata": {},
   "source": [
    "## 4️⃣ Visualize Entities in Text\n",
    "\n",
    "Create a function to highlight entities in text with different colors and show confidence scores.\n"
   ]
  },
  {
   "cell_type": "code",
   "execution_count": null,
   "metadata": {},
   "outputs": [
    {
     "data": {
      "text/html": [
       "<h3>Entity Highlighting Example:</h3>"
      ],
      "text/plain": [
       "<IPython.core.display.HTML object>"
      ]
     },
     "metadata": {},
     "output_type": "display_data"
    },
    {
     "data": {
      "text/html": [
       "<p style='font-size: 1.1em; line-height: 1.5;'><span style=\"background-color: #66b3ff; padding: 2px; border-radius: 3px;\" title=\"ORG: 89% confidence\">Apple</span> CEO <span style=\"background-color: #ff9999; padding: 2px; border-radius: 3px;\" title=\"PERSON: 96% confidence\">Tim Cook</span> announced a new <span style=\"background-color: #66b3ff; padding: 2px; border-radius: 3px;\" title=\"ORG: 90% confidence\">iPhone</span> at the company's headquarters in <span style=\"background-color: #99ff99; padding: 2px; border-radius: 3px;\" title=\"GPE: 98% confidence\">Cupertino</span>, <span style=\"background-color: #99ff99; padding: 2px; border-radius: 3px;\" title=\"GPE: 96% confidence\">California</span> on <span style=\"background-color: #c2c2f0; padding: 2px; border-radius: 3px;\" title=\"DATE: 99% confidence\">September 12, 2023</span>.</p>"
      ],
      "text/plain": [
       "<IPython.core.display.HTML object>"
      ]
     },
     "metadata": {},
     "output_type": "display_data"
    },
    {
     "data": {
      "text/html": [
       "<div style='margin-top: 20px;'><b>Entity Types:</b> <span style='margin-right: 10px;'><span style='background-color: #ff9999; padding: 2px 5px; border-radius: 3px;'>PERSON</span></span><span style='margin-right: 10px;'><span style='background-color: #66b3ff; padding: 2px 5px; border-radius: 3px;'>ORG</span></span><span style='margin-right: 10px;'><span style='background-color: #99ff99; padding: 2px 5px; border-radius: 3px;'>GPE</span></span><span style='margin-right: 10px;'><span style='background-color: #c2c2f0; padding: 2px 5px; border-radius: 3px;'>DATE</span></span></div>"
      ],
      "text/plain": [
       "<IPython.core.display.HTML object>"
      ]
     },
     "metadata": {},
     "output_type": "display_data"
    }
   ],
   "source": [
    "def highlight_entities(text, entities):\n",
    "    \"\"\"Highlight entities in text with colors and confidence scores.\"\"\"\n",
    "    # Sort entities by start position in reverse order to handle overlapping entities correctly\n",
    "    sorted_entities = sorted(entities, key=lambda x: x[\"start\"], reverse=True)\n",
    "\n",
    "    # Highlighted HTML text\n",
    "    html_text = text\n",
    "\n",
    "    for ent in sorted_entities:\n",
    "        # Get color for entity type\n",
    "        color = colors.get(ent[\"type\"], \"#ddd\")\n",
    "\n",
    "        # Get text before and after the entity\n",
    "        before = html_text[: ent[\"start\"]]\n",
    "        after = html_text[ent[\"end\"] :]\n",
    "\n",
    "        # Create tooltip with confidence score\n",
    "        tooltip = f\"{ent['type']}: {ent['confidence'] * 100:.0f}% confidence\"\n",
    "\n",
    "        # Replace entity with highlighted version\n",
    "        entity_html = f'<span style=\"background-color: {color}; padding: 2px; border-radius: 3px;\" title=\"{tooltip}\">{ent[\"text\"]}</span>'\n",
    "        html_text = before + entity_html + after\n",
    "\n",
    "    return html_text\n",
    "\n",
    "\n",
    "# Test the visualization\n",
    "highlighted_text = highlight_entities(sample_text, entities)\n",
    "display(HTML(\"<h3>Entity Highlighting Example:</h3>\"))\n",
    "display(HTML(f\"<p style='font-size: 1.1em; line-height: 1.5;'>{highlighted_text}</p>\"))\n",
    "\n",
    "# Add a legend for entity colors\n",
    "legend_html = \"<div style='margin-top: 20px;'><b>Entity Types:</b> \"\n",
    "for ent_type, color in colors.items():\n",
    "    if any(\n",
    "        e[\"type\"] == ent_type for e in entities\n",
    "    ):  # Only show entity types that appear in the text\n",
    "        legend_html += f\"<span style='margin-right: 10px;'><span style='background-color: {color}; padding: 2px 5px; border-radius: 3px;'>{ent_type}</span></span>\"\n",
    "legend_html += \"</div>\"\n",
    "display(HTML(legend_html))"
   ]
  },
  {
   "cell_type": "markdown",
   "metadata": {},
   "source": [
    "## 5️⃣ Entity Distribution Visualization\n",
    "\n",
    "Create visualizations to show the distribution of entity types in the text.\n"
   ]
  },
  {
   "cell_type": "code",
   "execution_count": null,
   "metadata": {},
   "outputs": [],
   "source": [
    "def plot_entity_distribution(entities):\n",
    "    \"\"\"Create visualizations of entity distribution.\"\"\"\n",
    "    if not entities:\n",
    "        print(\"No entities found to visualize.\")\n",
    "        return\n",
    "\n",
    "    # Count entities by type\n",
    "    entity_counts = Counter([ent[\"type\"] for ent in entities])\n",
    "\n",
    "    # Create DataFrame for visualization\n",
    "    df = pd.DataFrame(list(entity_counts.items()), columns=[\"Entity Type\", \"Count\"])\n",
    "    df = df.sort_values(\"Count\", ascending=False)\n",
    "\n",
    "    # Set up the figure\n",
    "    plt.figure(figsize=(10, 5))\n",
    "\n",
    "    # Create bar chart with entity colors\n",
    "    sns.barplot(\n",
    "        x=\"Entity Type\",\n",
    "        y=\"Count\",\n",
    "        data=df,\n",
    "        palette=[colors.get(t, \"#ddd\") for t in df[\"Entity Type\"]],\n",
    "    )\n",
    "\n",
    "    plt.title(\"Distribution of Entity Types\", fontsize=14)\n",
    "    plt.xlabel(\"Entity Type\")\n",
    "    plt.ylabel(\"Count\")\n",
    "    plt.xticks(rotation=45, ha=\"right\")\n",
    "    plt.tight_layout()\n",
    "    plt.show()\n",
    "\n",
    "    # Display confidence scores for each entity\n",
    "    plt.figure(figsize=(10, 5))\n",
    "\n",
    "    # Extract entity texts and confidence scores\n",
    "    entity_data = [\n",
    "        {\"Text\": ent[\"text\"], \"Type\": ent[\"type\"], \"Confidence\": ent[\"confidence\"]}\n",
    "        for ent in entities\n",
    "    ]\n",
    "    entity_df = pd.DataFrame(entity_data)\n",
    "\n",
    "    # Create horizontal bar chart of confidence scores\n",
    "    sns.barplot(x=\"Confidence\", y=\"Text\", hue=\"Type\", data=entity_df, palette=colors, dodge=False)\n",
    "\n",
    "    plt.title(\"Entity Confidence Scores\", fontsize=14)\n",
    "    plt.xlabel(\"Confidence Score\")\n",
    "    plt.ylabel(\"Entity\")\n",
    "    plt.xlim(0.5, 1.0)  # Set x-axis range for confidence scores\n",
    "    plt.legend(title=\"Entity Type\", loc=\"lower right\")\n",
    "    plt.tight_layout()\n",
    "    plt.show()\n",
    "\n",
    "\n",
    "# Visualize the entities in our sample text\n",
    "plot_entity_distribution(entities)"
   ]
  },
  {
   "cell_type": "markdown",
   "metadata": {},
   "source": [
    "## 6️⃣ Interactive Entity Recognition Tool\n",
    "\n",
    "Create an interactive widget that allows users to input text and see highlighted entities with confidence scores.\n"
   ]
  },
  {
   "cell_type": "code",
   "execution_count": null,
   "metadata": {},
   "outputs": [
    {
     "data": {
      "text/html": [
       "<h2>🔍 Interactive Named Entity Recognition</h2>"
      ],
      "text/plain": [
       "<IPython.core.display.HTML object>"
      ]
     },
     "metadata": {},
     "output_type": "display_data"
    },
    {
     "data": {
      "text/html": [
       "<p>Enter text or select a sample, then click 'Analyze Entities' to identify named entities.</p>"
      ],
      "text/plain": [
       "<IPython.core.display.HTML object>"
      ]
     },
     "metadata": {},
     "output_type": "display_data"
    },
    {
     "data": {
      "application/vnd.jupyter.widget-view+json": {
       "model_id": "43c1c89760fb4ba789ef6fa0e79b20a1",
       "version_major": 2,
       "version_minor": 0
      },
      "text/plain": [
       "Textarea(value=\"Google CEO Sundar Pichai visited the company's new office in London, UK last Thursday and met …"
      ]
     },
     "metadata": {},
     "output_type": "display_data"
    },
    {
     "data": {
      "application/vnd.jupyter.widget-view+json": {
       "model_id": "4d3b9aa26fce450da5d35fb7c9191c3a",
       "version_major": 2,
       "version_minor": 0
      },
      "text/plain": [
       "HBox(children=(Dropdown(description='Try Sample:', layout=Layout(width='50%'), options=('Sample 1', 'Sample 2'…"
      ]
     },
     "metadata": {},
     "output_type": "display_data"
    },
    {
     "data": {
      "application/vnd.jupyter.widget-view+json": {
       "model_id": "383d0abd04424cee9807c98265b789dd",
       "version_major": 2,
       "version_minor": 0
      },
      "text/plain": [
       "HBox(children=(Button(button_style='primary', description='Analyze Entities', icon='search', style=ButtonStyle…"
      ]
     },
     "metadata": {},
     "output_type": "display_data"
    },
    {
     "data": {
      "application/vnd.jupyter.widget-view+json": {
       "model_id": "08a3967e2e024a1981e94a5b70956e7c",
       "version_major": 2,
       "version_minor": 0
      },
      "text/plain": [
       "HTML(value='')"
      ]
     },
     "metadata": {},
     "output_type": "display_data"
    },
    {
     "data": {
      "application/vnd.jupyter.widget-view+json": {
       "model_id": "9692471340d54583b8e303e4448eba45",
       "version_major": 2,
       "version_minor": 0
      },
      "text/plain": [
       "Output()"
      ]
     },
     "metadata": {},
     "output_type": "display_data"
    }
   ],
   "source": [
    "# Create widgets for user interaction\n",
    "text_input = widgets.Textarea(\n",
    "    value=\"Google CEO Sundar Pichai visited the company's new office in London, UK last Thursday and met with Prime Minister Rishi Sunak to discuss a £1 billion investment.\",\n",
    "    placeholder=\"Enter text to analyze...\",\n",
    "    description=\"Text:\",\n",
    "    disabled=False,\n",
    "    layout=widgets.Layout(width=\"95%\", height=\"100px\"),\n",
    ")\n",
    "\n",
    "sample_dropdown = widgets.Dropdown(\n",
    "    options=[f\"Sample {i+1}\" for i in range(len(sample_texts))],\n",
    "    value=\"Sample 1\",\n",
    "    description=\"Try Sample:\",\n",
    "    disabled=False,\n",
    "    layout=widgets.Layout(width=\"50%\"),\n",
    ")\n",
    "\n",
    "analyze_button = widgets.Button(\n",
    "    description=\"Analyze Entities\",\n",
    "    disabled=False,\n",
    "    button_style=\"primary\",\n",
    "    tooltip=\"Click to analyze entities\",\n",
    "    icon=\"search\",\n",
    ")\n",
    "\n",
    "clear_button = widgets.Button(\n",
    "    description=\"Clear\",\n",
    "    disabled=False,\n",
    "    button_style=\"\",\n",
    "    tooltip=\"Clear results\",\n",
    "    icon=\"trash\",\n",
    ")\n",
    "\n",
    "min_confidence_slider = widgets.FloatSlider(\n",
    "    value=0.6,\n",
    "    min=0.5,\n",
    "    max=0.95,\n",
    "    step=0.05,\n",
    "    description=\"Min Confidence:\",\n",
    "    disabled=False,\n",
    "    continuous_update=False,\n",
    "    orientation=\"horizontal\",\n",
    "    readout=True,\n",
    "    readout_format=\".2f\",\n",
    "    layout=widgets.Layout(width=\"50%\"),\n",
    ")\n",
    "\n",
    "show_chart_checkbox = widgets.Checkbox(\n",
    "    value=True, description=\"Show Charts\", disabled=False, indent=False\n",
    ")\n",
    "\n",
    "output = widgets.Output()\n",
    "status = widgets.HTML(value=\"\")\n",
    "\n",
    "\n",
    "# Function to load sample text\n",
    "def on_sample_change(change):\n",
    "    if change[\"type\"] == \"change\" and change[\"name\"] == \"value\":\n",
    "        sample_idx = int(change[\"new\"].split()[1]) - 1\n",
    "        text_input.value = sample_texts[sample_idx]\n",
    "\n",
    "\n",
    "# Function to handle analyze button click\n",
    "def on_analyze_button_clicked(b):\n",
    "    with output:\n",
    "        clear_output()\n",
    "        status.value = \"<i>Analyzing entities...</i>\"\n",
    "\n",
    "        # Get input text\n",
    "        text = text_input.value.strip()\n",
    "        if not text:\n",
    "            status.value = \"<span style='color:red'>Please enter some text</span>\"\n",
    "            return\n",
    "\n",
    "        # Extract entities\n",
    "        entities = extract_entities(text)\n",
    "\n",
    "        # Filter by minimum confidence\n",
    "        min_confidence = min_confidence_slider.value\n",
    "        filtered_entities = [ent for ent in entities if ent[\"confidence\"] >= min_confidence]\n",
    "\n",
    "        # Highlight entities\n",
    "        highlighted_text = highlight_entities(text, filtered_entities)\n",
    "\n",
    "        # Show results\n",
    "        display(HTML(\"<h3>Identified Entities:</h3>\"))\n",
    "        display(\n",
    "            HTML(\n",
    "                f\"<p style='font-size: 1.1em; line-height: 1.5; padding: 10px; background-color: #f8f8f8; border-radius: 5px;'>{highlighted_text}</p>\"\n",
    "            )\n",
    "        )\n",
    "\n",
    "        # Add a legend for entity colors\n",
    "        legend_html = \"<div style='margin-top: 10px;'><b>Entity Types:</b> \"\n",
    "        for ent_type, color in colors.items():\n",
    "            if any(e[\"type\"] == ent_type for e in filtered_entities):\n",
    "                legend_html += f\"<span style='margin-right: 10px;'><span style='background-color: {color}; padding: 2px 5px; border-radius: 3px;'>{ent_type}</span></span>\"\n",
    "        legend_html += \"</div>\"\n",
    "        display(HTML(legend_html))\n",
    "\n",
    "        # Display entity table\n",
    "        if filtered_entities:\n",
    "            entity_data = [\n",
    "                {\n",
    "                    \"Entity\": ent[\"text\"],\n",
    "                    \"Type\": ent[\"type\"],\n",
    "                    \"Confidence\": f\"{ent['confidence']:.2f}\",\n",
    "                }\n",
    "                for ent in filtered_entities\n",
    "            ]\n",
    "\n",
    "            entity_df = pd.DataFrame(entity_data)\n",
    "            display(HTML(\"<h3>Entity Details:</h3>\"))\n",
    "            display(entity_df)\n",
    "\n",
    "            # Show charts if enabled\n",
    "            if show_chart_checkbox.value:\n",
    "                plot_entity_distribution(filtered_entities)\n",
    "        else:\n",
    "            display(HTML(\"<p>No entities found with the current confidence threshold.</p>\"))\n",
    "\n",
    "        # Update status\n",
    "        filtered_count = len(filtered_entities)\n",
    "        total_count = len(entities)\n",
    "\n",
    "        if filtered_count < total_count:\n",
    "            status.value = f\"<span style='color:green'>Found {filtered_count} entities (filtered from {total_count} total entities)</span>\"\n",
    "        else:\n",
    "            status.value = f\"<span style='color:green'>Found {filtered_count} entities</span>\"\n",
    "\n",
    "\n",
    "# Function to clear output\n",
    "def on_clear_button_clicked(b):\n",
    "    with output:\n",
    "        clear_output()\n",
    "    status.value = \"\"\n",
    "\n",
    "\n",
    "# Register callbacks\n",
    "sample_dropdown.observe(on_sample_change)\n",
    "analyze_button.on_click(on_analyze_button_clicked)\n",
    "clear_button.on_click(on_clear_button_clicked)\n",
    "\n",
    "# Display the interactive widget\n",
    "display(HTML(\"<h2>🔍 Interactive Named Entity Recognition</h2>\"))\n",
    "display(\n",
    "    HTML(\n",
    "        \"<p>Enter text or select a sample, then click 'Analyze Entities' to identify named entities.</p>\"\n",
    "    )\n",
    ")\n",
    "display(text_input)\n",
    "display(widgets.HBox([sample_dropdown, min_confidence_slider]))\n",
    "display(widgets.HBox([analyze_button, clear_button, show_chart_checkbox]))\n",
    "display(status)\n",
    "display(output)"
   ]
  },
  {
   "cell_type": "markdown",
   "metadata": {},
   "source": [
    "## 7️⃣ Custom Entity Recognition Example\n",
    "\n",
    "Demonstrate how custom entities might be recognized in domain-specific text.\n"
   ]
  },
  {
   "cell_type": "code",
   "execution_count": null,
   "metadata": {},
   "outputs": [
    {
     "data": {
      "text/html": [
       "<h3>Domain-Specific Entity Recognition: Medical Example</h3>"
      ],
      "text/plain": [
       "<IPython.core.display.HTML object>"
      ]
     },
     "metadata": {},
     "output_type": "display_data"
    },
    {
     "data": {
      "text/html": [
       "<p><b>Original Text:</b></p>"
      ],
      "text/plain": [
       "<IPython.core.display.HTML object>"
      ]
     },
     "metadata": {},
     "output_type": "display_data"
    },
    {
     "data": {
      "text/html": [
       "<p>Patient presented with acute myocardial infarction and was treated with 100mg of Aspirin. \n",
       "    Dr. Johnson recommended a follow-up with a cardiologist at Mayo Clinic within 2 weeks. \n",
       "    Patient has a history of hypertension and type 2 diabetes mellitus.</p>"
      ],
      "text/plain": [
       "<IPython.core.display.HTML object>"
      ]
     },
     "metadata": {},
     "output_type": "display_data"
    },
    {
     "data": {
      "text/html": [
       "<p><b>With Custom Medical Entity Recognition:</b></p>"
      ],
      "text/plain": [
       "<IPython.core.display.HTML object>"
      ]
     },
     "metadata": {},
     "output_type": "display_data"
    },
    {
     "data": {
      "text/html": [
       "<p style='line-height: 1.5;'>Patient presented with <span style=\"background-color: #ff6666; padding: 2px; border-radius: 3px;\" title=\"MEDICAL_CONDITION: 94% confidence\">acute myocardial infarction</span> and was treated with <span style=\"background-color: #66ccff; padding: 2px; border-radius: 3px;\" title=\"MEDICATION: 89% confidence\">100mg of Aspirin</span>. \n",
       "    <span style=\"background-color: #99cc99; padding: 2px; border-radius: 3px;\" title=\"HEALTHCARE_PROVIDER: 91% confidence\">Dr. Johnson</span> recommended a follow-up with a <span style=\"background-color: #ffcc99; padding: 2px; border-radius: 3px;\" title=\"MEDICAL_SPECIALTY: 86% confidence\">cardiologist</span> at <span style=\"background-color: #cc99ff; padding: 2px; border-radius: 3px;\" title=\"HEALTHCARE_FACILITY: 92% confidence\">Mayo Clinic</span> within 2 weeks. \n",
       "    Patient has a history of <span style=\"background-color: #ff6666; padding: 2px; border-radius: 3px;\" title=\"MEDICAL_CONDITION: 95% confidence\">hypertension</span> and <span style=\"background-color: #ff6666; padding: 2px; border-radius: 3px;\" title=\"MEDICAL_CONDITION: 93% confidence\">type 2 diabetes mellitus</span>.</p>"
      ],
      "text/plain": [
       "<IPython.core.display.HTML object>"
      ]
     },
     "metadata": {},
     "output_type": "display_data"
    },
    {
     "data": {
      "text/html": [
       "<div style='margin-top: 10px;'><b>Medical Entity Types:</b> <span style='margin-right: 10px;'><span style='background-color: #ff6666; padding: 2px 5px; border-radius: 3px;'>MEDICAL_CONDITION</span></span><span style='margin-right: 10px;'><span style='background-color: #66ccff; padding: 2px 5px; border-radius: 3px;'>MEDICATION</span></span><span style='margin-right: 10px;'><span style='background-color: #99cc99; padding: 2px 5px; border-radius: 3px;'>HEALTHCARE_PROVIDER</span></span><span style='margin-right: 10px;'><span style='background-color: #ffcc99; padding: 2px 5px; border-radius: 3px;'>MEDICAL_SPECIALTY</span></span><span style='margin-right: 10px;'><span style='background-color: #cc99ff; padding: 2px 5px; border-radius: 3px;'>HEALTHCARE_FACILITY</span></span></div>"
      ],
      "text/plain": [
       "<IPython.core.display.HTML object>"
      ]
     },
     "metadata": {},
     "output_type": "display_data"
    },
    {
     "data": {
      "text/html": [
       "<p><b>Entity Counts:</b></p>"
      ],
      "text/plain": [
       "<IPython.core.display.HTML object>"
      ]
     },
     "metadata": {},
     "output_type": "display_data"
    },
    {
     "data": {
      "text/html": [
       "<p>MEDICAL_CONDITION: 3</p>"
      ],
      "text/plain": [
       "<IPython.core.display.HTML object>"
      ]
     },
     "metadata": {},
     "output_type": "display_data"
    },
    {
     "data": {
      "text/html": [
       "<p>MEDICATION: 1</p>"
      ],
      "text/plain": [
       "<IPython.core.display.HTML object>"
      ]
     },
     "metadata": {},
     "output_type": "display_data"
    },
    {
     "data": {
      "text/html": [
       "<p>HEALTHCARE_PROVIDER: 1</p>"
      ],
      "text/plain": [
       "<IPython.core.display.HTML object>"
      ]
     },
     "metadata": {},
     "output_type": "display_data"
    },
    {
     "data": {
      "text/html": [
       "<p>MEDICAL_SPECIALTY: 1</p>"
      ],
      "text/plain": [
       "<IPython.core.display.HTML object>"
      ]
     },
     "metadata": {},
     "output_type": "display_data"
    },
    {
     "data": {
      "text/html": [
       "<p>HEALTHCARE_FACILITY: 1</p>"
      ],
      "text/plain": [
       "<IPython.core.display.HTML object>"
      ]
     },
     "metadata": {},
     "output_type": "display_data"
    }
   ],
   "source": [
    "def custom_entity_example():\n",
    "    \"\"\"Show how custom entities could be recognized (simulated example).\"\"\"\n",
    "    # This is a simulated example - in a real application, you would train a custom NER model\n",
    "\n",
    "    # Medical domain example text\n",
    "    medical_text = \"\"\"Patient presented with acute myocardial infarction and was treated with 100mg of Aspirin. \n",
    "    Dr. Johnson recommended a follow-up with a cardiologist at Mayo Clinic within 2 weeks. \n",
    "    Patient has a history of hypertension and type 2 diabetes mellitus.\"\"\"\n",
    "\n",
    "    # Standard spaCy NER\n",
    "    doc = nlp(medical_text)\n",
    "    standard_entities = [{\"text\": ent.text, \"type\": ent.label_} for ent in doc.ents]\n",
    "\n",
    "    # Simulated custom medical entities\n",
    "    # In a real application, these would come from a custom-trained model\n",
    "    custom_entities = [\n",
    "        {\n",
    "            \"text\": \"acute myocardial infarction\",\n",
    "            \"start\": medical_text.find(\"acute myocardial infarction\"),\n",
    "            \"end\": medical_text.find(\"acute myocardial infarction\")\n",
    "            + len(\"acute myocardial infarction\"),\n",
    "            \"type\": \"MEDICAL_CONDITION\",\n",
    "            \"confidence\": 0.94,\n",
    "        },\n",
    "        {\n",
    "            \"text\": \"100mg of Aspirin\",\n",
    "            \"start\": medical_text.find(\"100mg of Aspirin\"),\n",
    "            \"end\": medical_text.find(\"100mg of Aspirin\") + len(\"100mg of Aspirin\"),\n",
    "            \"type\": \"MEDICATION\",\n",
    "            \"confidence\": 0.89,\n",
    "        },\n",
    "        {\n",
    "            \"text\": \"Dr. Johnson\",\n",
    "            \"start\": medical_text.find(\"Dr. Johnson\"),\n",
    "            \"end\": medical_text.find(\"Dr. Johnson\") + len(\"Dr. Johnson\"),\n",
    "            \"type\": \"HEALTHCARE_PROVIDER\",\n",
    "            \"confidence\": 0.91,\n",
    "        },\n",
    "        {\n",
    "            \"text\": \"cardiologist\",\n",
    "            \"start\": medical_text.find(\"cardiologist\"),\n",
    "            \"end\": medical_text.find(\"cardiologist\") + len(\"cardiologist\"),\n",
    "            \"type\": \"MEDICAL_SPECIALTY\",\n",
    "            \"confidence\": 0.86,\n",
    "        },\n",
    "        {\n",
    "            \"text\": \"Mayo Clinic\",\n",
    "            \"start\": medical_text.find(\"Mayo Clinic\"),\n",
    "            \"end\": medical_text.find(\"Mayo Clinic\") + len(\"Mayo Clinic\"),\n",
    "            \"type\": \"HEALTHCARE_FACILITY\",\n",
    "            \"confidence\": 0.92,\n",
    "        },\n",
    "        {\n",
    "            \"text\": \"hypertension\",\n",
    "            \"start\": medical_text.find(\"hypertension\"),\n",
    "            \"end\": medical_text.find(\"hypertension\") + len(\"hypertension\"),\n",
    "            \"type\": \"MEDICAL_CONDITION\",\n",
    "            \"confidence\": 0.95,\n",
    "        },\n",
    "        {\n",
    "            \"text\": \"type 2 diabetes mellitus\",\n",
    "            \"start\": medical_text.find(\"type 2 diabetes mellitus\"),\n",
    "            \"end\": medical_text.find(\"type 2 diabetes mellitus\") + len(\"type 2 diabetes mellitus\"),\n",
    "            \"type\": \"MEDICAL_CONDITION\",\n",
    "            \"confidence\": 0.93,\n",
    "        },\n",
    "    ]\n",
    "\n",
    "    # Custom colors for medical entities\n",
    "    medical_colors = {\n",
    "        \"MEDICAL_CONDITION\": \"#ff6666\",  # Red\n",
    "        \"MEDICATION\": \"#66ccff\",  # Blue\n",
    "        \"HEALTHCARE_PROVIDER\": \"#99cc99\",  # Green\n",
    "        \"MEDICAL_SPECIALTY\": \"#ffcc99\",  # Orange\n",
    "        \"HEALTHCARE_FACILITY\": \"#cc99ff\",  # Purple\n",
    "    }\n",
    "\n",
    "    # Create highlighting function for custom entities\n",
    "    def highlight_medical_entities(text, entities):\n",
    "        sorted_entities = sorted(entities, key=lambda x: x[\"start\"], reverse=True)\n",
    "        html_text = text\n",
    "\n",
    "        for ent in sorted_entities:\n",
    "            color = medical_colors.get(ent[\"type\"], \"#ddd\")\n",
    "            before = html_text[: ent[\"start\"]]\n",
    "            after = html_text[ent[\"end\"] :]\n",
    "            tooltip = f\"{ent['type']}: {ent['confidence'] * 100:.0f}% confidence\"\n",
    "            entity_html = f'<span style=\"background-color: {color}; padding: 2px; border-radius: 3px;\" title=\"{tooltip}\">{ent[\"text\"]}</span>'\n",
    "            html_text = before + entity_html + after\n",
    "\n",
    "        return html_text\n",
    "\n",
    "    # Display results\n",
    "    display(HTML(\"<h3>Domain-Specific Entity Recognition: Medical Example</h3>\"))\n",
    "    display(HTML(\"<p><b>Original Text:</b></p>\"))\n",
    "    display(HTML(f\"<p>{medical_text}</p>\"))\n",
    "\n",
    "    display(HTML(\"<p><b>With Custom Medical Entity Recognition:</b></p>\"))\n",
    "    highlighted_medical = highlight_medical_entities(medical_text, custom_entities)\n",
    "    display(HTML(f\"<p style='line-height: 1.5;'>{highlighted_medical}</p>\"))\n",
    "\n",
    "    # Add legend for entity types\n",
    "    legend_html = \"<div style='margin-top: 10px;'><b>Medical Entity Types:</b> \"\n",
    "    for ent_type, color in medical_colors.items():\n",
    "        if any(e[\"type\"] == ent_type for e in custom_entities):\n",
    "            legend_html += f\"<span style='margin-right: 10px;'><span style='background-color: {color}; padding: 2px 5px; border-radius: 3px;'>{ent_type}</span></span>\"\n",
    "    legend_html += \"</div>\"\n",
    "    display(HTML(legend_html))\n",
    "\n",
    "    # Display entity counts\n",
    "    entity_types = Counter([e[\"type\"] for e in custom_entities])\n",
    "    display(HTML(\"<p><b>Entity Counts:</b></p>\"))\n",
    "    for entity_type, count in entity_types.items():\n",
    "        display(HTML(f\"<p>{entity_type}: {count}</p>\"))\n",
    "\n",
    "\n",
    "# Run the custom entity example\n",
    "custom_entity_example()"
   ]
  },
  {
   "cell_type": "markdown",
   "metadata": {},
   "source": [
    "## 8️⃣ Conclusion and Further Applications\n",
    "\n",
    "Named Entity Recognition has many practical applications across different domains:\n",
    "\n",
    "- **Information Extraction**: Automatically extract structured information from unstructured text\n",
    "- **Content Classification**: Categorize documents based on mentioned entities\n",
    "- **Question Answering**: Identify entities that match specific queries\n",
    "- **Search Enhancement**: Improve search relevance by prioritizing entity matches\n",
    "- **Content Recommendations**: Suggest related content based on entity similarity\n",
    "- **Relationship Extraction**: Identify connections between different entities\n",
    "\n",
    "**Further improvements could include:**\n",
    "\n",
    "- Training domain-specific NER models for better performance in specialized fields\n",
    "- Implementing entity linking to connect entities to knowledge bases\n",
    "- Using more advanced models like BERT or RoBERTa for better entity recognition\n",
    "- Adding support for cross-document entity coreference resolution\n",
    "- Implementing real-time entity recognition for streaming text data\n"
   ]
  },
  {
   "cell_type": "code",
   "execution_count": null,
   "metadata": {},
   "outputs": [],
   "source": []
  }
 ],
 "metadata": {
  "kernelspec": {
   "display_name": "pyt12",
   "language": "python",
   "name": "python3"
  },
  "language_info": {
   "codemirror_mode": {
    "name": "ipython",
    "version": 3
   },
   "file_extension": ".py",
   "mimetype": "text/x-python",
   "name": "python",
   "nbconvert_exporter": "python",
   "pygments_lexer": "ipython3",
   "version": "3.12.2"
  }
 },
 "nbformat": 4,
 "nbformat_minor": 2
}
