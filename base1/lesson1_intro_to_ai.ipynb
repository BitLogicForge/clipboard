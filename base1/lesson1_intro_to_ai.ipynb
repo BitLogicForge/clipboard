{
 "cells": [
  {
   "cell_type": "markdown",
   "metadata": {},
   "source": [
    "# Lesson 1: Introduction to Artificial Intelligence (AI)\n",
    "\n",
    "Welcome to the first lesson in our AI course! In this lesson, we'll explore the basics of Artificial Intelligence, its history, and real-world applications.\n"
   ]
  },
  {
   "cell_type": "markdown",
   "metadata": {},
   "source": [
    "## What is AI?\n",
    "\n",
    "**Artificial Intelligence (AI)** refers to systems or machines that mimic human intelligence to perform tasks and can iteratively improve themselves based on the information they collect.\n",
    "\n",
    "### A Brief History of AI\n",
    "\n",
    "- **1950s**: The term \"Artificial Intelligence\" was coined by John McCarthy. Alan Turing proposed the Turing Test.\n",
    "- **1960s-70s**: Early AI programs like ELIZA appeared. First \"expert systems\" were developed.\n",
    "- **1980s-90s**: Machine learning gained popularity. Chess computers began competing with humans.\n",
    "- **2000s-10s**: Big data and deep learning revolution. IBM's Watson won Jeopardy in 2011.\n",
    "- **2010s-Present**: Rapid advancements in neural networks, language models, and computer vision.\n"
   ]
  },
  {
   "cell_type": "markdown",
   "metadata": {},
   "source": [
    "## Real-World AI Applications\n",
    "\n",
    "AI is all around us! Let's explore some examples:\n"
   ]
  },
  {
   "cell_type": "markdown",
   "metadata": {},
   "source": [
    "### 1. Virtual Assistants\n",
    "\n",
    "Virtual assistants like Siri, Alexa, and Google Assistant use natural language processing to understand and respond to user requests.\n"
   ]
  },
  {
   "cell_type": "code",
   "execution_count": null,
   "metadata": {},
   "outputs": [],
   "source": [
    "# Simple example of a virtual assistant response\n",
    "import random\n",
    "\n",
    "\n",
    "def simple_assistant(question):\n",
    "    responses = {\n",
    "        \"hello\": [\"Hi there!\", \"Hello!\", \"Greetings!\"],\n",
    "        \"how are you\": [\"I'm doing well, thanks!\", \"I'm fine, how are you?\"],\n",
    "        \"time\": [\"I'm sorry, I can't check the time right now.\", \"It's time to learn AI!\"],\n",
    "        \"weather\": [\n",
    "            \"I don't have access to weather data right now.\",\n",
    "            \"The weather is digital in my world!\",\n",
    "        ],\n",
    "        \"name\": [\"I'm a simple AI assistant example.\", \"You can call me AI Demo.\"],\n",
    "    }\n",
    "\n",
    "    for key in responses:\n",
    "        if key in question.lower():\n",
    "            return random.choice(responses[key])\n",
    "\n",
    "    return \"I'm sorry, I don't understand that question.\"\n",
    "\n",
    "\n",
    "# Try it out!\n",
    "user_input = input(\"Ask the assistant something: \")\n",
    "print(f\"Assistant: {simple_assistant(user_input)}\")"
   ]
  },
  {
   "cell_type": "markdown",
   "metadata": {},
   "source": [
    "### 2. Image Recognition\n",
    "\n",
    "AI can be used to identify objects, people, and text in images.\n"
   ]
  },
  {
   "cell_type": "code",
   "execution_count": null,
   "metadata": {},
   "outputs": [],
   "source": [
    "# Simple demonstration of image classification\n",
    "# Note: This is a simplified example and doesn't actually perform real image recognition\n",
    "\n",
    "\n",
    "def demo_image_classifier(image_description):\n",
    "    # This function simulates what a real image classifier might do\n",
    "    if \"cat\" in image_description.lower():\n",
    "        return \"Cat detected (98% confidence)\"\n",
    "    elif \"dog\" in image_description.lower():\n",
    "        return \"Dog detected (97% confidence)\"\n",
    "    elif \"car\" in image_description.lower():\n",
    "        return \"Vehicle detected (95% confidence)\"\n",
    "    elif \"person\" in image_description.lower() or \"human\" in image_description.lower():\n",
    "        return \"Person detected (99% confidence)\"\n",
    "    else:\n",
    "        return \"No recognized objects detected\"\n",
    "\n",
    "\n",
    "# Try it out!\n",
    "image_desc = input(\"Describe an image (e.g., 'a cat playing', 'a red car'): \")\n",
    "print(f\"AI Classification: {demo_image_classifier(image_desc)}\")"
   ]
  },
  {
   "cell_type": "markdown",
   "metadata": {},
   "source": [
    "### 3. Recommendation Systems\n",
    "\n",
    "Services like Netflix, Amazon, and Spotify use AI to recommend content based on your preferences.\n"
   ]
  },
  {
   "cell_type": "code",
   "execution_count": null,
   "metadata": {},
   "outputs": [],
   "source": [
    "# Simple recommendation system demonstration\n",
    "import pandas as pd\n",
    "import numpy as np\n",
    "\n",
    "# Create a sample user-movie rating dataset\n",
    "data = {\n",
    "    \"User\": [\"Alice\", \"Alice\", \"Alice\", \"Bob\", \"Bob\", \"Bob\", \"Charlie\", \"Charlie\", \"Charlie\"],\n",
    "    \"Movie\": [\n",
    "        \"Action1\",\n",
    "        \"Comedy1\",\n",
    "        \"Drama1\",\n",
    "        \"Action1\",\n",
    "        \"Action2\",\n",
    "        \"Sci-fi1\",\n",
    "        \"Comedy1\",\n",
    "        \"Drama1\",\n",
    "        \"Drama2\",\n",
    "    ],\n",
    "    \"Rating\": [5, 3, 4, 4, 5, 5, 2, 5, 4],\n",
    "}\n",
    "\n",
    "df = pd.DataFrame(data)\n",
    "print(\"Sample user ratings:\")\n",
    "display(df)\n",
    "\n",
    "\n",
    "# Simple movie recommendation based on user similarity\n",
    "def recommend_movie(user, df):\n",
    "    # Get movies the user has already watched\n",
    "    user_movies = df[df[\"User\"] == user][\"Movie\"].tolist()\n",
    "\n",
    "    # Find other users who watched similar movies\n",
    "    similar_users = df[df[\"Movie\"].isin(user_movies) & (df[\"User\"] != user)][\"User\"].unique()\n",
    "\n",
    "    # Recommend movies that similar users rated highly and our user hasn't seen yet\n",
    "    recommendations = df[\n",
    "        (df[\"User\"].isin(similar_users)) & (~df[\"Movie\"].isin(user_movies)) & (df[\"Rating\"] >= 4)\n",
    "    ][\"Movie\"].unique()\n",
    "\n",
    "    if len(recommendations) > 0:\n",
    "        return recommendations\n",
    "    else:\n",
    "        return [\"No recommendations found\"]\n",
    "\n",
    "\n",
    "# Get recommendations for a user\n",
    "user = \"Alice\"\n",
    "print(f\"\\nRecommended movies for {user}:\")\n",
    "for movie in recommend_movie(user, df):\n",
    "    print(f\"- {movie}\")"
   ]
  },
  {
   "cell_type": "markdown",
   "metadata": {},
   "source": [
    "### 4. Self-driving Cars\n",
    "\n",
    "Autonomous vehicles use computer vision, sensor fusion, and decision-making algorithms to navigate roads safely.\n"
   ]
  },
  {
   "cell_type": "markdown",
   "metadata": {},
   "source": [
    "![Self-driving car illustration](https://upload.wikimedia.org/wikipedia/commons/thumb/1/1b/Waymo_Chrysler_Pacifica_in_Los_Altos%2C_2017.jpg/320px-Waymo_Chrysler_Pacifica_in_Los_Altos%2C_2017.jpg)\n",
    "\n",
    "_A self-driving car uses multiple AI techniques including:_\n",
    "\n",
    "- Computer vision to recognize road signs, pedestrians, and other vehicles\n",
    "- Reinforcement learning for decision-making\n",
    "- Path planning algorithms for navigation\n"
   ]
  },
  {
   "cell_type": "markdown",
   "metadata": {},
   "source": [
    "## Key AI Concepts\n",
    "\n",
    "### Intelligence\n",
    "\n",
    "The ability to perceive information and retain it as knowledge to be applied towards adaptive behaviors within an environment or context.\n",
    "\n",
    "### Automation\n",
    "\n",
    "The process of making a system operate automatically, reducing human intervention.\n",
    "\n",
    "### Algorithms\n",
    "\n",
    "Step-by-step procedures or formulas for solving problems, particularly by a computer.\n"
   ]
  },
  {
   "cell_type": "markdown",
   "metadata": {},
   "source": [
    "## Types of AI\n",
    "\n",
    "AI can be categorized based on its capabilities:\n"
   ]
  },
  {
   "cell_type": "markdown",
   "metadata": {},
   "source": [
    "### 1. Narrow AI (Weak AI)\n",
    "\n",
    "AI designed and trained for a specific task. Examples include:\n",
    "\n",
    "- Speech recognition\n",
    "- Image recognition\n",
    "- Recommendation systems\n",
    "- Virtual assistants\n",
    "\n",
    "Most AI today falls into this category.\n"
   ]
  },
  {
   "cell_type": "markdown",
   "metadata": {},
   "source": [
    "### 2. General AI (AGI - Artificial General Intelligence)\n",
    "\n",
    "AI that can understand, learn, and apply knowledge across different domains at human-level intelligence.\n",
    "\n",
    "- Can perform any intellectual task that a human can\n",
    "- Has common sense reasoning ability\n",
    "- Can transfer learning across domains\n",
    "\n",
    "AGI does not exist yet, but it remains a long-term goal of AI research.\n"
   ]
  },
  {
   "cell_type": "markdown",
   "metadata": {},
   "source": [
    "### 3. Superintelligent AI\n",
    "\n",
    "Hypothetical AI that surpasses the best human minds in virtually all fields.\n",
    "\n",
    "- Could potentially solve problems humans cannot\n",
    "- Raises significant ethical and existential questions\n",
    "- Purely theoretical at this point\n"
   ]
  },
  {
   "cell_type": "markdown",
   "metadata": {},
   "source": [
    "## Visual Comparison of AI Types\n",
    "\n",
    "Let's create a simple visualization to understand the scope of different AI types:\n"
   ]
  },
  {
   "cell_type": "code",
   "execution_count": null,
   "metadata": {},
   "outputs": [],
   "source": [
    "import matplotlib.pyplot as plt\n",
    "import numpy as np\n",
    "\n",
    "# Create data for a simple comparison chart\n",
    "ai_types = [\"Narrow AI\", \"General AI (AGI)\", \"Superintelligent AI\"]\n",
    "current_status = [100, 0, 0]  # Percentage of development/existence\n",
    "capability = [30, 100, 200]  # Relative capability compared to human (100=human level)\n",
    "\n",
    "x = np.arange(len(ai_types))\n",
    "width = 0.35\n",
    "\n",
    "fig, ax = plt.subplots(figsize=(10, 6))\n",
    "rects1 = ax.bar(x - width / 2, current_status, width, label=\"Current Status (%)\")\n",
    "rects2 = ax.bar(x + width / 2, capability, width, label=\"Capability vs Human (%)\")\n",
    "\n",
    "ax.set_ylabel(\"Percentage\")\n",
    "ax.set_title(\"AI Types: Status and Capability\")\n",
    "ax.set_xticks(x)\n",
    "ax.set_xticklabels(ai_types)\n",
    "ax.legend()\n",
    "\n",
    "\n",
    "# Add labels on the bars\n",
    "def autolabel(rects):\n",
    "    for rect in rects:\n",
    "        height = rect.get_height()\n",
    "        ax.annotate(\n",
    "            \"{}\".format(height),\n",
    "            xy=(rect.get_x() + rect.get_width() / 2, height),\n",
    "            xytext=(0, 3),  # 3 points vertical offset\n",
    "            textcoords=\"offset points\",\n",
    "            ha=\"center\",\n",
    "            va=\"bottom\",\n",
    "        )\n",
    "\n",
    "\n",
    "autolabel(rects1)\n",
    "autolabel(rects2)\n",
    "\n",
    "fig.tight_layout()\n",
    "plt.show()"
   ]
  },
  {
   "cell_type": "markdown",
   "metadata": {},
   "source": [
    "## Mini Exercise: Identify AI Types\n",
    "\n",
    "For each of the following technologies, identify whether it's an example of Narrow AI, AGI, or Superintelligent AI:\n"
   ]
  },
  {
   "cell_type": "code",
   "execution_count": null,
   "metadata": {},
   "outputs": [],
   "source": [
    "examples = [\n",
    "    \"Chess computer\",\n",
    "    \"Siri\",\n",
    "    \"An AI that can write novels, compose music, do scientific research, and understand human emotions\",\n",
    "    \"Spam filter\",\n",
    "    \"AI that solves complex problems beyond human comprehension and improves itself continuously\",\n",
    "    \"Face recognition system\",\n",
    "]\n",
    "\n",
    "# You can run this cell to check your answers after you've thought about each example\n",
    "answers = [\n",
    "    \"Narrow AI\",\n",
    "    \"Narrow AI\",\n",
    "    \"General AI (AGI)\",\n",
    "    \"Narrow AI\",\n",
    "    \"Superintelligent AI\",\n",
    "    \"Narrow AI\",\n",
    "]\n",
    "\n",
    "for i, example in enumerate(examples):\n",
    "    print(f\"Example: {example}\")\n",
    "    input(\"Your answer (press Enter to reveal): \")\n",
    "    print(f\"Answer: {answers[i]}\\n\")"
   ]
  },
  {
   "cell_type": "markdown",
   "metadata": {},
   "source": [
    "## Summary\n",
    "\n",
    "In this lesson, we've covered:\n",
    "\n",
    "1. **What is AI**: Definition, history, and real-world applications\n",
    "2. **Key Concepts**: Intelligence, automation, algorithms\n",
    "3. **Types of AI**: Narrow AI, General AI (AGI), and Superintelligent AI\n",
    "\n",
    "Next lesson, we'll dive into Machine Learning - the engine that powers modern AI systems.\n"
   ]
  },
  {
   "cell_type": "markdown",
   "metadata": {},
   "source": [
    "## Key Takeaways - AI Concepts\n",
    "\n",
    "Here are the key concepts we've covered in this lesson:\n",
    "\n",
    "| Concept                     | Description                                                                                       |\n",
    "| --------------------------- | ------------------------------------------------------------------------------------------------- |\n",
    "| **Artificial Intelligence** | Systems that mimic human intelligence to perform tasks and improve based on information collected |\n",
    "| **Narrow AI (Weak AI)**     | AI designed and trained for a specific task, like speech recognition or recommendation systems    |\n",
    "| **General AI (AGI)**        | AI that can understand, learn, and apply knowledge across domains at human-level intelligence     |\n",
    "| **Superintelligent AI**     | Hypothetical AI that surpasses human intelligence in virtually all fields                         |\n",
    "| **Virtual Assistants**      | AI applications that use natural language processing to understand and respond to user requests   |\n",
    "| **Image Recognition**       | AI systems that can identify objects, people, and text in images                                  |\n",
    "| **Recommendation Systems**  | AI that analyzes user preferences to suggest relevant content or products                         |\n",
    "| **Self-driving Cars**       | Autonomous vehicles using AI for navigation, object detection, and decision-making                |\n"
   ]
  },
  {
   "cell_type": "markdown",
   "metadata": {},
   "source": [
    "## AI Quiz - Check Your Understanding\n",
    "\n",
    "**Q1: What is Artificial Intelligence?**  \n",
    "A: Systems or machines that mimic human intelligence to perform tasks and can improve based on information they collect\n",
    "\n",
    "**Q2: When was the term \"Artificial Intelligence\" first coined?**  \n",
    "A: 1950s (by John McCarthy)\n",
    "\n",
    "**Q3: Which of the following is an example of Narrow AI?**  \n",
    "A: Image recognition software that can identify cats in photos\n",
    "\n",
    "**Q4: What is the key difference between Narrow AI and General AI (AGI)?**  \n",
    "A: Narrow AI excels at specific tasks, while AGI can perform any intellectual task a human can\n",
    "\n",
    "**Q5: Which type of AI exists today and powers most applications?**  \n",
    "A: Narrow AI (Weak AI)\n",
    "\n",
    "**Q6: What capability would indicate that an AI system has achieved superintelligence?**  \n",
    "A: The ability to solve problems that no human can solve\n",
    "\n",
    "**Q7: Which of these is NOT a typical application of modern AI?**  \n",
    "A: Developing general consciousness and self-awareness\n",
    "\n",
    "**Q8: Which AI milestone occurred in 2011?**  \n",
    "A: IBM's Watson won Jeopardy\n",
    "\n",
    "**Q9: In the context of AI, what does \"automation\" refer to?**  \n",
    "A: Making a system operate automatically with reduced human intervention\n",
    "\n",
    "**Q10: Which AI breakthrough led to significant advances in the 2010s?**  \n",
    "A: Deep learning and neural networks\n"
   ]
  },
  {
   "cell_type": "markdown",
   "metadata": {},
   "source": [
    "## Further Reading\n",
    "\n",
    "- [Artificial Intelligence: A Modern Approach](http://aima.cs.berkeley.edu/) by Stuart Russell and Peter Norvig\n",
    "- [The AI Index](https://aiindex.stanford.edu/) - Stanford University's annual report on AI progress\n",
    "- [Elements of AI](https://www.elementsofai.com/) - Free online course\n"
   ]
  }
 ],
 "metadata": {
  "kernelspec": {
   "display_name": "pyt13",
   "language": "python",
   "name": "python3"
  },
  "language_info": {
   "codemirror_mode": {
    "name": "ipython",
    "version": 3
   },
   "file_extension": ".py",
   "mimetype": "text/x-python",
   "name": "python",
   "nbconvert_exporter": "python",
   "pygments_lexer": "ipython3",
   "version": "3.13.2"
  }
 },
 "nbformat": 4,
 "nbformat_minor": 2
}
