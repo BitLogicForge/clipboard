{
 "cells": [
  {
   "cell_type": "markdown",
   "metadata": {},
   "source": [
    "# Introduction to TensorFlow 2 and Classification\n",
    "\n",
    "## Overview\n",
    "\n",
    "This lesson introduces TensorFlow 2, Google's open-source machine learning framework, and how to use it for classification tasks.\n"
   ]
  },
  {
   "cell_type": "markdown",
   "metadata": {},
   "source": [
    "## 1. What is TensorFlow 2?\n",
    "\n",
    "TensorFlow 2 is a major revision of the original TensorFlow framework with these key improvements:\n",
    "\n",
    "- **Eager execution** by default (immediate evaluation)\n",
    "- **Simplified API** with Keras as the central high-level API\n",
    "- **Better usability** with more intuitive function calls\n",
    "- **Improved performance** especially for deployment\n",
    "\n",
    "TensorFlow 2 makes developing machine learning models more accessible and productive.\n"
   ]
  },
  {
   "cell_type": "code",
   "execution_count": null,
   "metadata": {},
   "outputs": [],
   "source": [
    "# Import TensorFlow and check version\n",
    "import tensorflow as tf\n",
    "\n",
    "print(f\"TensorFlow version: {tf.__version__}\")"
   ]
  },
  {
   "cell_type": "markdown",
   "metadata": {},
   "source": [
    "## 2. TensorFlow Basics\n",
    "\n",
    "### 2.1 Tensors\n",
    "\n",
    "Tensors are multi-dimensional arrays that form the foundation of TensorFlow computations.\n"
   ]
  },
  {
   "cell_type": "code",
   "execution_count": null,
   "metadata": {},
   "outputs": [],
   "source": [
    "# Creating tensors\n",
    "scalar = tf.constant(5)  # 0D tensor (scalar)\n",
    "vector = tf.constant([1, 2, 3])  # 1D tensor (vector)\n",
    "matrix = tf.constant([[1, 2], [3, 4]])  # 2D tensor (matrix)\n",
    "tensor_3d = tf.constant([[[1, 2], [3, 4]]])  # 3D tensor\n",
    "\n",
    "print(\"Scalar shape:\", scalar.shape)\n",
    "print(\"Vector shape:\", vector.shape)\n",
    "print(\"Matrix shape:\", matrix.shape)\n",
    "print(\"3D tensor shape:\", tensor_3d.shape)"
   ]
  },
  {
   "cell_type": "markdown",
   "metadata": {},
   "source": [
    "### 2.2 Basic Operations\n"
   ]
  },
  {
   "cell_type": "code",
   "execution_count": null,
   "metadata": {},
   "outputs": [],
   "source": [
    "# Basic tensor operations\n",
    "a = tf.constant([[1, 2], [3, 4]])\n",
    "b = tf.constant([[5, 6], [7, 8]])\n",
    "\n",
    "print(\"Addition:\")\n",
    "print(a + b)\n",
    "\n",
    "print(\"\\nMultiplication:\")\n",
    "print(a * b)  # Element-wise multiplication\n",
    "\n",
    "print(\"\\nMatrix multiplication:\")\n",
    "print(tf.matmul(a, b))"
   ]
  },
  {
   "cell_type": "markdown",
   "metadata": {},
   "source": [
    "## 3. Introduction to Classification\n",
    "\n",
    "Classification is a supervised learning task where the goal is to predict which category an example belongs to.\n",
    "\n",
    "Examples of classification problems:\n",
    "\n",
    "- Email spam detection (spam vs. not spam)\n",
    "- Image recognition (cat, dog, horse, etc.)\n",
    "- Medical diagnosis (disease vs. no disease)\n",
    "- Sentiment analysis (positive, negative, neutral)\n",
    "\n",
    "Two main types of classification:\n",
    "\n",
    "- **Binary classification**: Two possible classes (e.g., spam or not spam)\n",
    "- **Multi-class classification**: More than two classes (e.g., classifying digits 0-9)\n"
   ]
  },
  {
   "cell_type": "markdown",
   "metadata": {},
   "source": [
    "## 4. Building a Classification Model with TensorFlow 2\n",
    "\n",
    "Let's build a simple neural network for classifying the MNIST dataset (handwritten digits).\n"
   ]
  },
  {
   "cell_type": "code",
   "execution_count": null,
   "metadata": {},
   "outputs": [],
   "source": [
    "# Load the MNIST dataset\n",
    "mnist = tf.keras.datasets.mnist\n",
    "(x_train, y_train), (x_test, y_test) = mnist.load_data()\n",
    "\n",
    "# Normalize pixel values to be between 0 and 1\n",
    "x_train, x_test = x_train / 255.0, x_test / 255.0\n",
    "\n",
    "print(f\"Training data shape: {x_train.shape}\")\n",
    "print(f\"Training labels shape: {y_train.shape}\")"
   ]
  },
  {
   "cell_type": "code",
   "execution_count": null,
   "metadata": {},
   "outputs": [],
   "source": [
    "# Display a sample image\n",
    "import matplotlib.pyplot as plt\n",
    "\n",
    "plt.figure(figsize=(5, 5))\n",
    "image_index = 10  # Change this to see different examples\n",
    "plt.imshow(x_train[image_index], cmap=\"gray\")\n",
    "plt.title(f\"Label: {y_train[image_index]}\")\n",
    "plt.axis(\"off\")\n",
    "plt.show()"
   ]
  },
  {
   "cell_type": "code",
   "execution_count": null,
   "metadata": {},
   "outputs": [],
   "source": [
    "# Build a simple classification model\n",
    "model = tf.keras.models.Sequential(\n",
    "    [\n",
    "        tf.keras.layers.Flatten(input_shape=(28, 28)),  # Convert 28x28 images to 784 flat vector\n",
    "        tf.keras.layers.Dense(\n",
    "            128, activation=\"relu\"\n",
    "        ),  # Hidden layer with 128 neurons and ReLU activation\n",
    "        tf.keras.layers.Dropout(0.2),  # Dropout layer to prevent overfitting\n",
    "        tf.keras.layers.Dense(10, activation=\"softmax\"),  # Output layer: 10 classes with softmax\n",
    "    ]\n",
    ")\n",
    "\n",
    "# Print model summary\n",
    "model.summary()"
   ]
  },
  {
   "cell_type": "code",
   "execution_count": null,
   "metadata": {},
   "outputs": [],
   "source": [
    "# Compile the model\n",
    "model.compile(\n",
    "    optimizer=\"adam\",  # Adam optimization algorithm\n",
    "    loss=\"sparse_categorical_crossentropy\",  # Loss function for classification\n",
    "    metrics=[\"accuracy\"],  # Monitoring accuracy during training\n",
    ")"
   ]
  },
  {
   "cell_type": "code",
   "execution_count": null,
   "metadata": {},
   "outputs": [],
   "source": [
    "# Train the model\n",
    "history = model.fit(\n",
    "    x_train,\n",
    "    y_train,\n",
    "    epochs=5,  # Number of training iterations\n",
    "    validation_data=(x_test, y_test),  # Validation data to monitor performance\n",
    ")"
   ]
  },
  {
   "cell_type": "code",
   "execution_count": null,
   "metadata": {},
   "outputs": [],
   "source": [
    "# Evaluate the model\n",
    "test_loss, test_acc = model.evaluate(x_test, y_test, verbose=2)\n",
    "print(f\"\\nTest accuracy: {test_acc:.4f}\")"
   ]
  },
  {
   "cell_type": "code",
   "execution_count": null,
   "metadata": {},
   "outputs": [],
   "source": [
    "# Make predictions on test data\n",
    "predictions = model.predict(x_test)\n",
    "\n",
    "# Get the predicted class for the first few examples\n",
    "for i in range(5):\n",
    "    predicted_class = tf.argmax(predictions[i]).numpy()\n",
    "    actual_class = y_test[i]\n",
    "    print(f\"Example {i}:\")\n",
    "    print(f\"  Predicted class: {predicted_class}\")\n",
    "    print(f\"  Actual class: {actual_class}\")\n",
    "    print(f\"  {'Correct!' if predicted_class == actual_class else 'Incorrect!'}\\n\")"
   ]
  },
  {
   "cell_type": "markdown",
   "metadata": {},
   "source": [
    "## 5. Classification Metrics\n",
    "\n",
    "For evaluating classification models, we look at several metrics:\n",
    "\n",
    "- **Accuracy**: Proportion of correct predictions\n",
    "- **Precision**: How many of the positive predictions were actually positive\n",
    "- **Recall**: How many actual positives were correctly predicted\n",
    "- **F1 Score**: Harmonic mean of precision and recall\n",
    "- **Confusion Matrix**: Table showing correct and incorrect predictions by class\n"
   ]
  },
  {
   "cell_type": "code",
   "execution_count": null,
   "metadata": {},
   "outputs": [],
   "source": [
    "# Create a confusion matrix\n",
    "import numpy as np\n",
    "\n",
    "# Get predicted classes\n",
    "y_pred = np.argmax(predictions, axis=1)\n",
    "\n",
    "# Create confusion matrix\n",
    "from sklearn.metrics import confusion_matrix\n",
    "import seaborn as sns\n",
    "\n",
    "cm = confusion_matrix(y_test, y_pred)\n",
    "\n",
    "plt.figure(figsize=(10, 8))\n",
    "sns.heatmap(cm, annot=True, fmt=\"d\", cmap=\"Blues\")\n",
    "plt.xlabel(\"Predicted Label\")\n",
    "plt.ylabel(\"True Label\")\n",
    "plt.title(\"Confusion Matrix\")\n",
    "plt.show()"
   ]
  },
  {
   "cell_type": "markdown",
   "metadata": {},
   "source": [
    "## 6. Saving and Loading Models\n",
    "\n",
    "TensorFlow 2 makes it easy to save and load models:\n"
   ]
  },
  {
   "cell_type": "code",
   "execution_count": null,
   "metadata": {},
   "outputs": [],
   "source": [
    "# Save the model\n",
    "model.save(\"mnist_classifier.h5\")\n",
    "print(\"Model saved!\")\n",
    "\n",
    "# Load the model\n",
    "loaded_model = tf.keras.models.load_model(\"mnist_classifier.h5\")\n",
    "print(\"Model loaded!\")\n",
    "\n",
    "# Verify it works the same\n",
    "loaded_model_loss, loaded_model_acc = loaded_model.evaluate(x_test, y_test, verbose=2)\n",
    "print(f\"\\nLoaded model accuracy: {loaded_model_acc:.4f}\")"
   ]
  },
  {
   "cell_type": "markdown",
   "metadata": {},
   "source": [
    "## 7. Summary\n",
    "\n",
    "In this lesson, we've covered:\n",
    "\n",
    "1. **TensorFlow 2 basics**: Tensors and basic operations\n",
    "2. **Classification concepts**: Binary vs. multi-class classification\n",
    "3. **Building a neural network**: Using the Sequential API\n",
    "4. **Training and evaluation**: How to train and evaluate a classification model\n",
    "5. **Model metrics**: Understanding classification performance\n",
    "6. **Model persistence**: Saving and loading trained models\n",
    "\n",
    "This provides a foundation for more advanced classification tasks in machine learning.\n"
   ]
  }
 ],
 "metadata": {
  "kernelspec": {
   "display_name": "pyt12",
   "language": "python",
   "name": "python3"
  },
  "language_info": {
   "codemirror_mode": {
    "name": "ipython",
    "version": 3
   },
   "file_extension": ".py",
   "mimetype": "text/x-python",
   "name": "python",
   "nbconvert_exporter": "python",
   "pygments_lexer": "ipython3",
   "version": "3.12.2"
  }
 },
 "nbformat": 4,
 "nbformat_minor": 2
}
